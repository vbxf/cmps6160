{
 "cells": [
  {
   "cell_type": "markdown",
   "metadata": {},
   "source": [
    "https://vbxf.github.io/cmps6160/\n",
    "\n",
    "https://github.com/vbxf/cmps6160\n",
    "# Jiangpeng Liu\n",
    "# Sustainable energy as a better alternative\n",
    "In this project, I will be analyzing whether transitioning to renewable energy sources which decreases CO2 emission positively impacts global human development. The primary goal is to find if there is a positive correlation between the increase of renewable energy and the index that represents human development."
   ]
  },
  {
   "cell_type": "markdown",
   "metadata": {},
   "source": [
    "## Note for running this jupyter notebook\n",
    "I am using python==3.10  \n",
    "python==3.12 might not work correctly with neuralprophet package"
   ]
  },
  {
   "cell_type": "markdown",
   "metadata": {},
   "source": [
    "## Collaboration Plan\n",
    "There is no collaboration plan since it is a solo project"
   ]
  },
  {
   "cell_type": "markdown",
   "metadata": {},
   "source": [
    "## Dataset\n",
    "I found the first dataset from [kaggle](https://www.kaggle.com/datasets/lobosi/c02-emission-by-countrys-grouth-and-population). The dataset contains CO2 emission, power generation, types of power sources, and GDP of different Countries. It is a combination of multiple datasets, and the majority of the data is taken from the US Energy Administration. We can use this dataset to answer the question like \"Does renewable energy slow down or speed up the growth of GDP?\", \"Which Country uses the biggest portion of renewable energy\", and \"Does Countries with higher GDP per capita generate more electricity from clean energy sources?\""
   ]
  },
  {
   "cell_type": "markdown",
   "metadata": {},
   "source": [
    "### Extraction"
   ]
  },
  {
   "cell_type": "code",
   "execution_count": 1,
   "metadata": {},
   "outputs": [
    {
     "data": {
      "text/html": [
       "<div>\n",
       "<style scoped>\n",
       "    .dataframe tbody tr th:only-of-type {\n",
       "        vertical-align: middle;\n",
       "    }\n",
       "\n",
       "    .dataframe tbody tr th {\n",
       "        vertical-align: top;\n",
       "    }\n",
       "\n",
       "    .dataframe thead th {\n",
       "        text-align: right;\n",
       "    }\n",
       "</style>\n",
       "<table border=\"1\" class=\"dataframe\">\n",
       "  <thead>\n",
       "    <tr style=\"text-align: right;\">\n",
       "      <th></th>\n",
       "      <th>Unnamed: 0</th>\n",
       "      <th>Country</th>\n",
       "      <th>Energy_type</th>\n",
       "      <th>Year</th>\n",
       "      <th>Energy_consumption</th>\n",
       "      <th>Energy_production</th>\n",
       "      <th>GDP</th>\n",
       "      <th>Population</th>\n",
       "      <th>Energy_intensity_per_capita</th>\n",
       "      <th>Energy_intensity_by_GDP</th>\n",
       "      <th>CO2_emission</th>\n",
       "    </tr>\n",
       "  </thead>\n",
       "  <tbody>\n",
       "    <tr>\n",
       "      <th>0</th>\n",
       "      <td>0</td>\n",
       "      <td>World</td>\n",
       "      <td>all_energy_types</td>\n",
       "      <td>1980</td>\n",
       "      <td>292.899790</td>\n",
       "      <td>296.337228</td>\n",
       "      <td>27770.910281</td>\n",
       "      <td>4.298127e+06</td>\n",
       "      <td>68.145921</td>\n",
       "      <td>10.547000</td>\n",
       "      <td>4946.627130</td>\n",
       "    </tr>\n",
       "    <tr>\n",
       "      <th>1</th>\n",
       "      <td>1</td>\n",
       "      <td>World</td>\n",
       "      <td>coal</td>\n",
       "      <td>1980</td>\n",
       "      <td>78.656134</td>\n",
       "      <td>80.114194</td>\n",
       "      <td>27770.910281</td>\n",
       "      <td>4.298127e+06</td>\n",
       "      <td>68.145921</td>\n",
       "      <td>10.547000</td>\n",
       "      <td>1409.790188</td>\n",
       "    </tr>\n",
       "    <tr>\n",
       "      <th>2</th>\n",
       "      <td>2</td>\n",
       "      <td>World</td>\n",
       "      <td>natural_gas</td>\n",
       "      <td>1980</td>\n",
       "      <td>53.865223</td>\n",
       "      <td>54.761046</td>\n",
       "      <td>27770.910281</td>\n",
       "      <td>4.298127e+06</td>\n",
       "      <td>68.145921</td>\n",
       "      <td>10.547000</td>\n",
       "      <td>1081.593377</td>\n",
       "    </tr>\n",
       "    <tr>\n",
       "      <th>3</th>\n",
       "      <td>3</td>\n",
       "      <td>World</td>\n",
       "      <td>petroleum_n_other_liquids</td>\n",
       "      <td>1980</td>\n",
       "      <td>132.064019</td>\n",
       "      <td>133.111109</td>\n",
       "      <td>27770.910281</td>\n",
       "      <td>4.298127e+06</td>\n",
       "      <td>68.145921</td>\n",
       "      <td>10.547000</td>\n",
       "      <td>2455.243565</td>\n",
       "    </tr>\n",
       "    <tr>\n",
       "      <th>4</th>\n",
       "      <td>4</td>\n",
       "      <td>World</td>\n",
       "      <td>nuclear</td>\n",
       "      <td>1980</td>\n",
       "      <td>7.575700</td>\n",
       "      <td>7.575700</td>\n",
       "      <td>27770.910281</td>\n",
       "      <td>4.298127e+06</td>\n",
       "      <td>68.145921</td>\n",
       "      <td>10.547000</td>\n",
       "      <td>0.000000</td>\n",
       "    </tr>\n",
       "    <tr>\n",
       "      <th>...</th>\n",
       "      <td>...</td>\n",
       "      <td>...</td>\n",
       "      <td>...</td>\n",
       "      <td>...</td>\n",
       "      <td>...</td>\n",
       "      <td>...</td>\n",
       "      <td>...</td>\n",
       "      <td>...</td>\n",
       "      <td>...</td>\n",
       "      <td>...</td>\n",
       "      <td>...</td>\n",
       "    </tr>\n",
       "    <tr>\n",
       "      <th>55435</th>\n",
       "      <td>55435</td>\n",
       "      <td>Zimbabwe</td>\n",
       "      <td>coal</td>\n",
       "      <td>2019</td>\n",
       "      <td>0.045064</td>\n",
       "      <td>0.075963</td>\n",
       "      <td>37.620400</td>\n",
       "      <td>1.465420e+04</td>\n",
       "      <td>11.508701</td>\n",
       "      <td>4.482962</td>\n",
       "      <td>4.586869</td>\n",
       "    </tr>\n",
       "    <tr>\n",
       "      <th>55436</th>\n",
       "      <td>55436</td>\n",
       "      <td>Zimbabwe</td>\n",
       "      <td>natural_gas</td>\n",
       "      <td>2019</td>\n",
       "      <td>0.000000</td>\n",
       "      <td>0.000000</td>\n",
       "      <td>37.620400</td>\n",
       "      <td>1.465420e+04</td>\n",
       "      <td>11.508701</td>\n",
       "      <td>4.482962</td>\n",
       "      <td>0.000000</td>\n",
       "    </tr>\n",
       "    <tr>\n",
       "      <th>55437</th>\n",
       "      <td>55437</td>\n",
       "      <td>Zimbabwe</td>\n",
       "      <td>petroleum_n_other_liquids</td>\n",
       "      <td>2019</td>\n",
       "      <td>0.055498</td>\n",
       "      <td>0.000000</td>\n",
       "      <td>37.620400</td>\n",
       "      <td>1.465420e+04</td>\n",
       "      <td>11.508701</td>\n",
       "      <td>4.482962</td>\n",
       "      <td>4.377890</td>\n",
       "    </tr>\n",
       "    <tr>\n",
       "      <th>55438</th>\n",
       "      <td>55438</td>\n",
       "      <td>Zimbabwe</td>\n",
       "      <td>nuclear</td>\n",
       "      <td>2019</td>\n",
       "      <td>NaN</td>\n",
       "      <td>NaN</td>\n",
       "      <td>37.620400</td>\n",
       "      <td>1.465420e+04</td>\n",
       "      <td>11.508701</td>\n",
       "      <td>4.482962</td>\n",
       "      <td>0.000000</td>\n",
       "    </tr>\n",
       "    <tr>\n",
       "      <th>55439</th>\n",
       "      <td>55439</td>\n",
       "      <td>Zimbabwe</td>\n",
       "      <td>renewables_n_other</td>\n",
       "      <td>2019</td>\n",
       "      <td>0.068089</td>\n",
       "      <td>0.067499</td>\n",
       "      <td>37.620400</td>\n",
       "      <td>1.465420e+04</td>\n",
       "      <td>11.508701</td>\n",
       "      <td>4.482962</td>\n",
       "      <td>0.000000</td>\n",
       "    </tr>\n",
       "  </tbody>\n",
       "</table>\n",
       "<p>55440 rows × 11 columns</p>\n",
       "</div>"
      ],
      "text/plain": [
       "       Unnamed: 0   Country                Energy_type  Year  \\\n",
       "0               0     World           all_energy_types  1980   \n",
       "1               1     World                       coal  1980   \n",
       "2               2     World                natural_gas  1980   \n",
       "3               3     World  petroleum_n_other_liquids  1980   \n",
       "4               4     World                    nuclear  1980   \n",
       "...           ...       ...                        ...   ...   \n",
       "55435       55435  Zimbabwe                       coal  2019   \n",
       "55436       55436  Zimbabwe                natural_gas  2019   \n",
       "55437       55437  Zimbabwe  petroleum_n_other_liquids  2019   \n",
       "55438       55438  Zimbabwe                    nuclear  2019   \n",
       "55439       55439  Zimbabwe         renewables_n_other  2019   \n",
       "\n",
       "       Energy_consumption  Energy_production           GDP    Population  \\\n",
       "0              292.899790         296.337228  27770.910281  4.298127e+06   \n",
       "1               78.656134          80.114194  27770.910281  4.298127e+06   \n",
       "2               53.865223          54.761046  27770.910281  4.298127e+06   \n",
       "3              132.064019         133.111109  27770.910281  4.298127e+06   \n",
       "4                7.575700           7.575700  27770.910281  4.298127e+06   \n",
       "...                   ...                ...           ...           ...   \n",
       "55435            0.045064           0.075963     37.620400  1.465420e+04   \n",
       "55436            0.000000           0.000000     37.620400  1.465420e+04   \n",
       "55437            0.055498           0.000000     37.620400  1.465420e+04   \n",
       "55438                 NaN                NaN     37.620400  1.465420e+04   \n",
       "55439            0.068089           0.067499     37.620400  1.465420e+04   \n",
       "\n",
       "       Energy_intensity_per_capita  Energy_intensity_by_GDP  CO2_emission  \n",
       "0                        68.145921                10.547000   4946.627130  \n",
       "1                        68.145921                10.547000   1409.790188  \n",
       "2                        68.145921                10.547000   1081.593377  \n",
       "3                        68.145921                10.547000   2455.243565  \n",
       "4                        68.145921                10.547000      0.000000  \n",
       "...                            ...                      ...           ...  \n",
       "55435                    11.508701                 4.482962      4.586869  \n",
       "55436                    11.508701                 4.482962      0.000000  \n",
       "55437                    11.508701                 4.482962      4.377890  \n",
       "55438                    11.508701                 4.482962      0.000000  \n",
       "55439                    11.508701                 4.482962      0.000000  \n",
       "\n",
       "[55440 rows x 11 columns]"
      ]
     },
     "execution_count": 1,
     "metadata": {},
     "output_type": "execute_result"
    }
   ],
   "source": [
    "import pandas as pd\n",
    "energy = pd.read_csv('data/energy.csv')\n",
    "energy"
   ]
  },
  {
   "cell_type": "markdown",
   "metadata": {},
   "source": [
    "### Transformation"
   ]
  },
  {
   "cell_type": "markdown",
   "metadata": {},
   "source": [
    "As we can see There are two index columns: the default index generated by Pandas and the \"Unnamed\" index from the original dataset, both index do not give us good understandings of the dataset. Instead of using the default index, we can set the combination of Country and year as the new index. The \"Unnamed: 0\" column contains no useful information, therefore it will be dropped."
   ]
  },
  {
   "cell_type": "code",
   "execution_count": 2,
   "metadata": {},
   "outputs": [
    {
     "data": {
      "text/plain": [
       "Country                         object\n",
       "Energy_type                     object\n",
       "Year                             int64\n",
       "Energy_consumption             float64\n",
       "Energy_production              float64\n",
       "GDP                            float64\n",
       "Population                     float64\n",
       "Energy_intensity_per_capita    float64\n",
       "Energy_intensity_by_GDP        float64\n",
       "CO2_emission                   float64\n",
       "dtype: object"
      ]
     },
     "execution_count": 2,
     "metadata": {},
     "output_type": "execute_result"
    }
   ],
   "source": [
    "# Identify dtypes\n",
    "energy.drop(columns=['Unnamed: 0'], inplace=True)\n",
    "energy.dtypes"
   ]
  },
  {
   "cell_type": "markdown",
   "metadata": {},
   "source": [
    "We can see that every column is correctly identified by pandas therefore we do not need to modify its dtype.\n",
    "We want to know if the portion of renewable energy has increased over the last 40 years. We can start filter the Country index by \"World\" variable which represents data for the entire world."
   ]
  },
  {
   "cell_type": "code",
   "execution_count": 3,
   "metadata": {},
   "outputs": [],
   "source": [
    "energy_df = energy.set_index(['Country', 'Year']).loc['World', :]"
   ]
  },
  {
   "cell_type": "markdown",
   "metadata": {},
   "source": [
    "We can take a look at the new dataframe which contains only the data for the entire world."
   ]
  },
  {
   "cell_type": "code",
   "execution_count": 4,
   "metadata": {},
   "outputs": [
    {
     "data": {
      "text/html": [
       "<div>\n",
       "<style scoped>\n",
       "    .dataframe tbody tr th:only-of-type {\n",
       "        vertical-align: middle;\n",
       "    }\n",
       "\n",
       "    .dataframe tbody tr th {\n",
       "        vertical-align: top;\n",
       "    }\n",
       "\n",
       "    .dataframe thead th {\n",
       "        text-align: right;\n",
       "    }\n",
       "</style>\n",
       "<table border=\"1\" class=\"dataframe\">\n",
       "  <thead>\n",
       "    <tr style=\"text-align: right;\">\n",
       "      <th></th>\n",
       "      <th>Energy_type</th>\n",
       "      <th>Energy_consumption</th>\n",
       "      <th>Energy_production</th>\n",
       "      <th>GDP</th>\n",
       "      <th>Population</th>\n",
       "      <th>Energy_intensity_per_capita</th>\n",
       "      <th>Energy_intensity_by_GDP</th>\n",
       "      <th>CO2_emission</th>\n",
       "    </tr>\n",
       "    <tr>\n",
       "      <th>Year</th>\n",
       "      <th></th>\n",
       "      <th></th>\n",
       "      <th></th>\n",
       "      <th></th>\n",
       "      <th></th>\n",
       "      <th></th>\n",
       "      <th></th>\n",
       "      <th></th>\n",
       "    </tr>\n",
       "  </thead>\n",
       "  <tbody>\n",
       "    <tr>\n",
       "      <th>1980</th>\n",
       "      <td>all_energy_types</td>\n",
       "      <td>292.899790</td>\n",
       "      <td>296.337228</td>\n",
       "      <td>27770.910281</td>\n",
       "      <td>4.298127e+06</td>\n",
       "      <td>68.145921</td>\n",
       "      <td>10.547</td>\n",
       "      <td>4946.627130</td>\n",
       "    </tr>\n",
       "    <tr>\n",
       "      <th>1980</th>\n",
       "      <td>coal</td>\n",
       "      <td>78.656134</td>\n",
       "      <td>80.114194</td>\n",
       "      <td>27770.910281</td>\n",
       "      <td>4.298127e+06</td>\n",
       "      <td>68.145921</td>\n",
       "      <td>10.547</td>\n",
       "      <td>1409.790188</td>\n",
       "    </tr>\n",
       "    <tr>\n",
       "      <th>1980</th>\n",
       "      <td>natural_gas</td>\n",
       "      <td>53.865223</td>\n",
       "      <td>54.761046</td>\n",
       "      <td>27770.910281</td>\n",
       "      <td>4.298127e+06</td>\n",
       "      <td>68.145921</td>\n",
       "      <td>10.547</td>\n",
       "      <td>1081.593377</td>\n",
       "    </tr>\n",
       "    <tr>\n",
       "      <th>1980</th>\n",
       "      <td>petroleum_n_other_liquids</td>\n",
       "      <td>132.064019</td>\n",
       "      <td>133.111109</td>\n",
       "      <td>27770.910281</td>\n",
       "      <td>4.298127e+06</td>\n",
       "      <td>68.145921</td>\n",
       "      <td>10.547</td>\n",
       "      <td>2455.243565</td>\n",
       "    </tr>\n",
       "    <tr>\n",
       "      <th>1980</th>\n",
       "      <td>nuclear</td>\n",
       "      <td>7.575700</td>\n",
       "      <td>7.575700</td>\n",
       "      <td>27770.910281</td>\n",
       "      <td>4.298127e+06</td>\n",
       "      <td>68.145921</td>\n",
       "      <td>10.547</td>\n",
       "      <td>0.000000</td>\n",
       "    </tr>\n",
       "  </tbody>\n",
       "</table>\n",
       "</div>"
      ],
      "text/plain": [
       "                    Energy_type  Energy_consumption  Energy_production  \\\n",
       "Year                                                                     \n",
       "1980           all_energy_types          292.899790         296.337228   \n",
       "1980                       coal           78.656134          80.114194   \n",
       "1980                natural_gas           53.865223          54.761046   \n",
       "1980  petroleum_n_other_liquids          132.064019         133.111109   \n",
       "1980                    nuclear            7.575700           7.575700   \n",
       "\n",
       "               GDP    Population  Energy_intensity_per_capita  \\\n",
       "Year                                                            \n",
       "1980  27770.910281  4.298127e+06                    68.145921   \n",
       "1980  27770.910281  4.298127e+06                    68.145921   \n",
       "1980  27770.910281  4.298127e+06                    68.145921   \n",
       "1980  27770.910281  4.298127e+06                    68.145921   \n",
       "1980  27770.910281  4.298127e+06                    68.145921   \n",
       "\n",
       "      Energy_intensity_by_GDP  CO2_emission  \n",
       "Year                                         \n",
       "1980                   10.547   4946.627130  \n",
       "1980                   10.547   1409.790188  \n",
       "1980                   10.547   1081.593377  \n",
       "1980                   10.547   2455.243565  \n",
       "1980                   10.547      0.000000  "
      ]
     },
     "execution_count": 4,
     "metadata": {},
     "output_type": "execute_result"
    }
   ],
   "source": [
    "energy_df.head()"
   ]
  },
  {
   "cell_type": "code",
   "execution_count": 5,
   "metadata": {},
   "outputs": [],
   "source": [
    "All_production = energy_df.loc[energy_df[\"Energy_type\"] == \"all_energy_types\"][[\"Energy_production\"]]\n",
    "nuclear_production = energy_df.loc[energy_df[\"Energy_type\"] == \"nuclear\"][[\"Energy_production\"]]\n",
    "renewable_production = energy_df.loc[energy_df[\"Energy_type\"] == \"renewables_n_other\"][[\"Energy_production\"]]\n",
    "All_production = All_production.rename(columns= {\"Energy_production\": \"All_energy_production\"})\n",
    "nuclear_production = nuclear_production.rename(columns= {\"Energy_production\": \"nuclear_production\"})\n",
    "renewable_production = renewable_production.rename(columns= {\"Energy_production\": \"renewable_production\"})"
   ]
  },
  {
   "cell_type": "code",
   "execution_count": 6,
   "metadata": {},
   "outputs": [],
   "source": [
    "total_df = All_production.merge(nuclear_production, on=\"Year\").merge(renewable_production, on=\"Year\")\n",
    "total_df[\"portion\"] = (total_df[\"nuclear_production\"] + total_df[\"renewable_production\"]) / total_df[\"All_energy_production\"]"
   ]
  },
  {
   "cell_type": "code",
   "execution_count": 65,
   "metadata": {},
   "outputs": [
    {
     "data": {
      "text/plain": [
       "<Axes: title={'center': 'The portion of renewable energy over the years'}, xlabel='Year'>"
      ]
     },
     "execution_count": 65,
     "metadata": {},
     "output_type": "execute_result"
    },
    {
     "data": {
      "image/png": "[encoded data removed]",
      "text/plain": [
       "<Figure size 640x480 with 1 Axes>"
      ]
     },
     "metadata": {},
     "output_type": "display_data"
    }
   ],
   "source": [
    "total_df.plot(kind='line', title='The portion of renewable energy over the years', y='portion')"
   ]
  },
  {
   "cell_type": "markdown",
   "metadata": {},
   "source": [
    "After looking at data for the entire world, we can start asking questions on the individual Country. What are the three countries with the most renewable energy power generation? \n",
    "We can filter the dataframe to include only the renewable energy sources in the year of 2019. We also want to drop the rows that has the \"World\" as a Country name."
   ]
  },
  {
   "cell_type": "code",
   "execution_count": 8,
   "metadata": {},
   "outputs": [
    {
     "data": {
      "text/html": [
       "<div>\n",
       "<style scoped>\n",
       "    .dataframe tbody tr th:only-of-type {\n",
       "        vertical-align: middle;\n",
       "    }\n",
       "\n",
       "    .dataframe tbody tr th {\n",
       "        vertical-align: top;\n",
       "    }\n",
       "\n",
       "    .dataframe thead th {\n",
       "        text-align: right;\n",
       "    }\n",
       "</style>\n",
       "<table border=\"1\" class=\"dataframe\">\n",
       "  <thead>\n",
       "    <tr style=\"text-align: right;\">\n",
       "      <th></th>\n",
       "      <th>Country</th>\n",
       "      <th>Energy_production</th>\n",
       "    </tr>\n",
       "  </thead>\n",
       "  <tbody>\n",
       "    <tr>\n",
       "      <th>54305</th>\n",
       "      <td>China</td>\n",
       "      <td>17.997317</td>\n",
       "    </tr>\n",
       "    <tr>\n",
       "      <th>55379</th>\n",
       "      <td>United States</td>\n",
       "      <td>11.595138</td>\n",
       "    </tr>\n",
       "    <tr>\n",
       "      <th>54215</th>\n",
       "      <td>Brazil</td>\n",
       "      <td>5.442417</td>\n",
       "    </tr>\n",
       "  </tbody>\n",
       "</table>\n",
       "</div>"
      ],
      "text/plain": [
       "             Country  Energy_production\n",
       "54305          China          17.997317\n",
       "55379  United States          11.595138\n",
       "54215         Brazil           5.442417"
      ]
     },
     "execution_count": 8,
     "metadata": {},
     "output_type": "execute_result"
    }
   ],
   "source": [
    "highest_renewable = energy.loc[(energy.Year == 2019) & (energy.Energy_type == 'renewables_n_other')][['Country', 'Energy_production']]\n",
    "highest_renewable = highest_renewable.sort_values(\"Energy_production\", ascending=False)\n",
    "highest_renewable.drop(highest_renewable[highest_renewable.Country == 'World'].index).head(3)"
   ]
  },
  {
   "cell_type": "markdown",
   "metadata": {},
   "source": [
    "We can see the top three Countries are China, United states, and Brazil"
   ]
  },
  {
   "cell_type": "markdown",
   "metadata": {},
   "source": [
    "We can also find out how much power generation from renewable energy has increased from 1980 to 2019."
   ]
  },
  {
   "cell_type": "code",
   "execution_count": 9,
   "metadata": {},
   "outputs": [
    {
     "name": "stdout",
     "output_type": "stream",
     "text": [
      "Power generation from renewable power source increased by 239.21% from 1980 to 2019\n"
     ]
    }
   ],
   "source": [
    "pg = energy.loc[(energy.Country == 'World') & (energy.Energy_type == 'renewables_n_other')]\n",
    "pg2019 = pg.loc[pg.Year==2019].Energy_production.item()\n",
    "pg1980 = pg.loc[pg.Year==1980].Energy_production.item()\n",
    "print(\"Power generation from renewable power source increased by {:.2f}% from 1980 to 2019\".format((pg2019-pg1980)/pg1980*100))"
   ]
  },
  {
   "cell_type": "markdown",
   "metadata": {},
   "source": [
    "Another question we can ask is which Country has the highest power generation from nuclear energy in 2019?"
   ]
  },
  {
   "cell_type": "code",
   "execution_count": 10,
   "metadata": {},
   "outputs": [
    {
     "data": {
      "text/html": [
       "<div>\n",
       "<style scoped>\n",
       "    .dataframe tbody tr th:only-of-type {\n",
       "        vertical-align: middle;\n",
       "    }\n",
       "\n",
       "    .dataframe tbody tr th {\n",
       "        vertical-align: top;\n",
       "    }\n",
       "\n",
       "    .dataframe thead th {\n",
       "        text-align: right;\n",
       "    }\n",
       "</style>\n",
       "<table border=\"1\" class=\"dataframe\">\n",
       "  <thead>\n",
       "    <tr style=\"text-align: right;\">\n",
       "      <th></th>\n",
       "      <th>Country</th>\n",
       "      <th>Energy_production</th>\n",
       "    </tr>\n",
       "  </thead>\n",
       "  <tbody>\n",
       "    <tr>\n",
       "      <th>55378</th>\n",
       "      <td>United States</td>\n",
       "      <td>8.451852</td>\n",
       "    </tr>\n",
       "  </tbody>\n",
       "</table>\n",
       "</div>"
      ],
      "text/plain": [
       "             Country  Energy_production\n",
       "55378  United States           8.451852"
      ]
     },
     "execution_count": 10,
     "metadata": {},
     "output_type": "execute_result"
    }
   ],
   "source": [
    "highest_nuclear = energy.loc[(energy.Year == 2019) & (energy.Energy_type == 'nuclear')][['Country', 'Energy_production']]\n",
    "highest_nuclear = highest_nuclear.sort_values(\"Energy_production\", ascending=False)\n",
    "highest_nuclear.drop(highest_nuclear[highest_nuclear.Country == 'World'].index).head(1)"
   ]
  },
  {
   "cell_type": "markdown",
   "metadata": {},
   "source": [
    "United States has the highest nuclear energy production."
   ]
  },
  {
   "cell_type": "markdown",
   "metadata": {},
   "source": [
    "The general public might not be comfortable with nuclear energy. I believe that after a big nuclear power plant disaster, the growth of nuclear energy will be slowed down. We will prove or disprove this by using Pandas line plot to plot the trend of nuclear energy production from 1980 to 2019"
   ]
  },
  {
   "cell_type": "code",
   "execution_count": 11,
   "metadata": {},
   "outputs": [
    {
     "data": {
      "text/plain": [
       "<Axes: xlabel='Year'>"
      ]
     },
     "execution_count": 11,
     "metadata": {},
     "output_type": "execute_result"
    },
    {
     "data": {
      "image/png": "[encoded data removed]",
      "text/plain": [
       "<Figure size 640x480 with 1 Axes>"
      ]
     },
     "metadata": {},
     "output_type": "display_data"
    }
   ],
   "source": [
    "nuclear_production.plot(kind='line')"
   ]
  },
  {
   "cell_type": "markdown",
   "metadata": {},
   "source": [
    "The most recent nuclear accident was the Fukushima nuclear accident in 2011. As we can see, the nuclear energy production decreased significantly after 2011. We only recovered 2005's nuclear energy production level in 2019. Because of the accident, Germany phased out all nuclear power plants in 2023."
   ]
  },
  {
   "cell_type": "markdown",
   "metadata": {},
   "source": [
    "We can also look at how much CO2 emission increased over the last 40 years."
   ]
  },
  {
   "cell_type": "code",
   "execution_count": 12,
   "metadata": {},
   "outputs": [
    {
     "name": "stdout",
     "output_type": "stream",
     "text": [
      "CO2 emission of the entire world increased by 619.38% from 1980 to 2019\n"
     ]
    }
   ],
   "source": [
    "co = energy.loc[(energy.Country == 'World') & (energy.Energy_type == 'all_energy_types')]\n",
    "co2019 = co.loc[co.Year==2019].CO2_emission.item()\n",
    "co1980 = co.loc[co.Year==1980].CO2_emission.item()\n",
    "print(\"CO2 emission of the entire world increased by {:.2f}% from 1980 to 2019\".format((co2019-co1980)/co1980*100))"
   ]
  },
  {
   "cell_type": "markdown",
   "metadata": {},
   "source": [
    "## Project plan after milestone 1\n",
    "Having the energy generation dataset might be enough to solve the problem we want to ask. By exploring the relationship between the CO2 per capita and GDP per capita, we might find that we reach higher GDP per capita level with lower amount of pollution. However, the increase of renewable energy might not be the only factors contributing to this phenomenon. Therefore, I plan to explore more datasets to build a more solid proof."
   ]
  },
  {
   "cell_type": "markdown",
   "metadata": {},
   "source": [
    "## Additional datasets\n",
    "To assess whether transitioning to sustainable energy is advantageous, it's crucial to examine its most significant benefit compared to traditional energy sources: being more environmentally friendly. The air quality index is a good measure of air pollution. The following dataset comes from [kaggle](https://www.kaggle.com/datasets/threnjen/40-years-of-air-quality-index-from-the-epa-yearly) contains 40 years of yearly AQI index sourced from the Environmental Protection Agency. By using this dataset, we can answer question like if the increased adoption of sustainable energy has a positive impact on the air quality."
   ]
  },
  {
   "cell_type": "markdown",
   "metadata": {},
   "source": [
    "## Extraction"
   ]
  },
  {
   "cell_type": "code",
   "execution_count": 13,
   "metadata": {},
   "outputs": [
    {
     "data": {
      "text/html": [
       "<div>\n",
       "<style scoped>\n",
       "    .dataframe tbody tr th:only-of-type {\n",
       "        vertical-align: middle;\n",
       "    }\n",
       "\n",
       "    .dataframe tbody tr th {\n",
       "        vertical-align: top;\n",
       "    }\n",
       "\n",
       "    .dataframe thead th {\n",
       "        text-align: right;\n",
       "    }\n",
       "</style>\n",
       "<table border=\"1\" class=\"dataframe\">\n",
       "  <thead>\n",
       "    <tr style=\"text-align: right;\">\n",
       "      <th></th>\n",
       "      <th>State</th>\n",
       "      <th>County</th>\n",
       "      <th>Year</th>\n",
       "      <th>Days with AQI</th>\n",
       "      <th>Good Days</th>\n",
       "      <th>Moderate Days</th>\n",
       "      <th>Unhealthy for Sensitive Groups Days</th>\n",
       "      <th>Unhealthy Days</th>\n",
       "      <th>Very Unhealthy Days</th>\n",
       "      <th>Hazardous Days</th>\n",
       "      <th>...</th>\n",
       "      <th>90th Percentile AQI</th>\n",
       "      <th>Median AQI</th>\n",
       "      <th>Days CO</th>\n",
       "      <th>Days NO2</th>\n",
       "      <th>Days Ozone</th>\n",
       "      <th>Days SO2</th>\n",
       "      <th>Days PM2.5</th>\n",
       "      <th>Days PM10</th>\n",
       "      <th>Latitude</th>\n",
       "      <th>Longitude</th>\n",
       "    </tr>\n",
       "  </thead>\n",
       "  <tbody>\n",
       "    <tr>\n",
       "      <th>0</th>\n",
       "      <td>Alabama</td>\n",
       "      <td>DeKalb</td>\n",
       "      <td>2021</td>\n",
       "      <td>58</td>\n",
       "      <td>58</td>\n",
       "      <td>0</td>\n",
       "      <td>0</td>\n",
       "      <td>0</td>\n",
       "      <td>0</td>\n",
       "      <td>0</td>\n",
       "      <td>...</td>\n",
       "      <td>42</td>\n",
       "      <td>32</td>\n",
       "      <td>0</td>\n",
       "      <td>0</td>\n",
       "      <td>58</td>\n",
       "      <td>0</td>\n",
       "      <td>0</td>\n",
       "      <td>0</td>\n",
       "      <td>34.289001</td>\n",
       "      <td>-85.970065</td>\n",
       "    </tr>\n",
       "    <tr>\n",
       "      <th>1</th>\n",
       "      <td>Alabama</td>\n",
       "      <td>Jefferson</td>\n",
       "      <td>2021</td>\n",
       "      <td>60</td>\n",
       "      <td>33</td>\n",
       "      <td>27</td>\n",
       "      <td>0</td>\n",
       "      <td>0</td>\n",
       "      <td>0</td>\n",
       "      <td>0</td>\n",
       "      <td>...</td>\n",
       "      <td>64</td>\n",
       "      <td>50</td>\n",
       "      <td>1</td>\n",
       "      <td>1</td>\n",
       "      <td>2</td>\n",
       "      <td>0</td>\n",
       "      <td>55</td>\n",
       "      <td>1</td>\n",
       "      <td>33.565278</td>\n",
       "      <td>-86.796389</td>\n",
       "    </tr>\n",
       "    <tr>\n",
       "      <th>2</th>\n",
       "      <td>Alaska</td>\n",
       "      <td>Denali</td>\n",
       "      <td>2021</td>\n",
       "      <td>59</td>\n",
       "      <td>59</td>\n",
       "      <td>0</td>\n",
       "      <td>0</td>\n",
       "      <td>0</td>\n",
       "      <td>0</td>\n",
       "      <td>0</td>\n",
       "      <td>...</td>\n",
       "      <td>41</td>\n",
       "      <td>39</td>\n",
       "      <td>0</td>\n",
       "      <td>0</td>\n",
       "      <td>59</td>\n",
       "      <td>0</td>\n",
       "      <td>0</td>\n",
       "      <td>0</td>\n",
       "      <td>63.723200</td>\n",
       "      <td>-148.967600</td>\n",
       "    </tr>\n",
       "  </tbody>\n",
       "</table>\n",
       "<p>3 rows × 21 columns</p>\n",
       "</div>"
      ],
      "text/plain": [
       "     State     County  Year  Days with AQI  Good Days  Moderate Days  \\\n",
       "0  Alabama     DeKalb  2021             58         58              0   \n",
       "1  Alabama  Jefferson  2021             60         33             27   \n",
       "2   Alaska    Denali   2021             59         59              0   \n",
       "\n",
       "   Unhealthy for Sensitive Groups Days  Unhealthy Days  Very Unhealthy Days  \\\n",
       "0                                    0               0                    0   \n",
       "1                                    0               0                    0   \n",
       "2                                    0               0                    0   \n",
       "\n",
       "   Hazardous Days  ...  90th Percentile AQI  Median AQI  Days CO  Days NO2  \\\n",
       "0               0  ...                   42          32        0         0   \n",
       "1               0  ...                   64          50        1         1   \n",
       "2               0  ...                   41          39        0         0   \n",
       "\n",
       "   Days Ozone  Days SO2  Days PM2.5  Days PM10   Latitude   Longitude  \n",
       "0          58         0           0          0  34.289001  -85.970065  \n",
       "1           2         0          55          1  33.565278  -86.796389  \n",
       "2          59         0           0          0  63.723200 -148.967600  \n",
       "\n",
       "[3 rows x 21 columns]"
      ]
     },
     "metadata": {},
     "output_type": "display_data"
    },
    {
     "name": "stdout",
     "output_type": "stream",
     "text": [
      "21\n"
     ]
    },
    {
     "data": {
      "text/plain": [
       "State                                   object\n",
       "County                                  object\n",
       "Year                                     int64\n",
       "Days with AQI                            int64\n",
       "Good Days                                int64\n",
       "Moderate Days                            int64\n",
       "Unhealthy for Sensitive Groups Days      int64\n",
       "Unhealthy Days                           int64\n",
       "Very Unhealthy Days                      int64\n",
       "Hazardous Days                           int64\n",
       "Max AQI                                  int64\n",
       "90th Percentile AQI                      int64\n",
       "Median AQI                               int64\n",
       "Days CO                                  int64\n",
       "Days NO2                                 int64\n",
       "Days Ozone                               int64\n",
       "Days SO2                                 int64\n",
       "Days PM2.5                               int64\n",
       "Days PM10                                int64\n",
       "Latitude                               float64\n",
       "Longitude                              float64\n",
       "dtype: object"
      ]
     },
     "execution_count": 13,
     "metadata": {},
     "output_type": "execute_result"
    }
   ],
   "source": [
    "# Extracting the data and analyzing the data types\n",
    "aqi = pd.read_csv('data/aqi_yearly.csv')\n",
    "display(aqi.head(3))\n",
    "print(len(aqi.columns))\n",
    "aqi.dtypes"
   ]
  },
  {
   "cell_type": "markdown",
   "metadata": {},
   "source": [
    "The dataset has 21 columns, we only need to look at a few data, so can extract the data we need and drop other columns by selecting the column names. The types of column variables are correctly identified by pandas."
   ]
  },
  {
   "cell_type": "code",
   "execution_count": 14,
   "metadata": {},
   "outputs": [
    {
     "data": {
      "text/html": [
       "<div>\n",
       "<style scoped>\n",
       "    .dataframe tbody tr th:only-of-type {\n",
       "        vertical-align: middle;\n",
       "    }\n",
       "\n",
       "    .dataframe tbody tr th {\n",
       "        vertical-align: top;\n",
       "    }\n",
       "\n",
       "    .dataframe thead th {\n",
       "        text-align: right;\n",
       "    }\n",
       "</style>\n",
       "<table border=\"1\" class=\"dataframe\">\n",
       "  <thead>\n",
       "    <tr style=\"text-align: right;\">\n",
       "      <th></th>\n",
       "      <th>Year</th>\n",
       "      <th>Days with AQI</th>\n",
       "      <th>Good Days</th>\n",
       "    </tr>\n",
       "  </thead>\n",
       "  <tbody>\n",
       "    <tr>\n",
       "      <th>34183</th>\n",
       "      <td>2020</td>\n",
       "      <td>366</td>\n",
       "      <td>318</td>\n",
       "    </tr>\n",
       "    <tr>\n",
       "      <th>34184</th>\n",
       "      <td>2020</td>\n",
       "      <td>366</td>\n",
       "      <td>323</td>\n",
       "    </tr>\n",
       "    <tr>\n",
       "      <th>34185</th>\n",
       "      <td>2020</td>\n",
       "      <td>366</td>\n",
       "      <td>336</td>\n",
       "    </tr>\n",
       "  </tbody>\n",
       "</table>\n",
       "</div>"
      ],
      "text/plain": [
       "       Year  Days with AQI  Good Days\n",
       "34183  2020            366        318\n",
       "34184  2020            366        323\n",
       "34185  2020            366        336"
      ]
     },
     "execution_count": 14,
     "metadata": {},
     "output_type": "execute_result"
    }
   ],
   "source": [
    "# Cleaning the data\n",
    "aqi_cleaned = aqi[[\"Year\", \"Days with AQI\", \"Good Days\"]]\n",
    "aqi_cleaned.tail(3)"
   ]
  },
  {
   "cell_type": "markdown",
   "metadata": {},
   "source": [
    "We will group the dataset by the year, and rename the column names to avoid confusion, then we will get a dataset containing the percentage of good days using AQI as measure of air pollution from 1980 to 2021. We can merge this with our previous dataset containing the different type of energy"
   ]
  },
  {
   "cell_type": "code",
   "execution_count": 15,
   "metadata": {},
   "outputs": [
    {
     "data": {
      "text/html": [
       "<div>\n",
       "<style scoped>\n",
       "    .dataframe tbody tr th:only-of-type {\n",
       "        vertical-align: middle;\n",
       "    }\n",
       "\n",
       "    .dataframe tbody tr th {\n",
       "        vertical-align: top;\n",
       "    }\n",
       "\n",
       "    .dataframe thead th {\n",
       "        text-align: right;\n",
       "    }\n",
       "</style>\n",
       "<table border=\"1\" class=\"dataframe\">\n",
       "  <thead>\n",
       "    <tr style=\"text-align: right;\">\n",
       "      <th></th>\n",
       "      <th>Days with AQI for all location</th>\n",
       "      <th>Good Days for all location</th>\n",
       "      <th>Percentage of Good Days</th>\n",
       "    </tr>\n",
       "    <tr>\n",
       "      <th>Year</th>\n",
       "      <th></th>\n",
       "      <th></th>\n",
       "      <th></th>\n",
       "    </tr>\n",
       "  </thead>\n",
       "  <tbody>\n",
       "    <tr>\n",
       "      <th>1980</th>\n",
       "      <td>143587</td>\n",
       "      <td>77831</td>\n",
       "      <td>54.204768</td>\n",
       "    </tr>\n",
       "    <tr>\n",
       "      <th>1981</th>\n",
       "      <td>149784</td>\n",
       "      <td>84275</td>\n",
       "      <td>56.264354</td>\n",
       "    </tr>\n",
       "    <tr>\n",
       "      <th>1982</th>\n",
       "      <td>153579</td>\n",
       "      <td>88378</td>\n",
       "      <td>57.545628</td>\n",
       "    </tr>\n",
       "    <tr>\n",
       "      <th>1983</th>\n",
       "      <td>160713</td>\n",
       "      <td>92928</td>\n",
       "      <td>57.822329</td>\n",
       "    </tr>\n",
       "    <tr>\n",
       "      <th>1984</th>\n",
       "      <td>160542</td>\n",
       "      <td>92070</td>\n",
       "      <td>57.349479</td>\n",
       "    </tr>\n",
       "  </tbody>\n",
       "</table>\n",
       "</div>"
      ],
      "text/plain": [
       "      Days with AQI for all location  Good Days for all location  \\\n",
       "Year                                                               \n",
       "1980                          143587                       77831   \n",
       "1981                          149784                       84275   \n",
       "1982                          153579                       88378   \n",
       "1983                          160713                       92928   \n",
       "1984                          160542                       92070   \n",
       "\n",
       "      Percentage of Good Days  \n",
       "Year                           \n",
       "1980                54.204768  \n",
       "1981                56.264354  \n",
       "1982                57.545628  \n",
       "1983                57.822329  \n",
       "1984                57.349479  "
      ]
     },
     "execution_count": 15,
     "metadata": {},
     "output_type": "execute_result"
    }
   ],
   "source": [
    "# Grouping the data and find the percentage of good days\n",
    "aqi_grouped = aqi_cleaned.groupby(['Year']).sum()\n",
    "aqi_grouped['Percentage of Good Days'] = aqi_grouped['Good Days'] / aqi_grouped['Days with AQI'] * 100\n",
    "aqi_grouped = aqi_grouped.rename(columns={\"Days with AQI\": \"Days with AQI for all location\"})\n",
    "aqi_grouped = aqi_grouped.rename(columns={\"Good Days\": \"Good Days for all location\"})\n",
    "aqi_grouped.head()"
   ]
  },
  {
   "cell_type": "code",
   "execution_count": 16,
   "metadata": {},
   "outputs": [
    {
     "data": {
      "text/plain": [
       "31.04928247329822"
      ]
     },
     "execution_count": 16,
     "metadata": {},
     "output_type": "execute_result"
    }
   ],
   "source": [
    "# The difference between the percentage of good days in 2021 and 1981\n",
    "aqi_grouped.loc[2021][\"Percentage of Good Days\"] - aqi_grouped.loc[1981][\"Percentage of Good Days\"]"
   ]
  },
  {
   "cell_type": "markdown",
   "metadata": {},
   "source": [
    "We can see that the percentage of good days increased 31.04% over the last 40 years"
   ]
  },
  {
   "cell_type": "markdown",
   "metadata": {},
   "source": [
    "One question we could ask ourselves is that if there is a positive correlation between the percentage of sustainable energy and the percentage of the good days monitored.\n",
    "1. filter for nuclear and renewable energy in dataset\n",
    "2. combine both values and divide by all_energy_type to get the percentage of sustainable energy\n",
    "3. merge with our AQI dataset\n",
    "4. plot scatterplot to see if there is a correlation"
   ]
  },
  {
   "cell_type": "code",
   "execution_count": 17,
   "metadata": {},
   "outputs": [
    {
     "name": "stderr",
     "output_type": "stream",
     "text": [
      "/tmp/ipykernel_207471/2217889201.py:5: FutureWarning: The default value of numeric_only in DataFrameGroupBy.sum is deprecated. In a future version, numeric_only will default to False. Either specify numeric_only or select only columns which should be valid for the function.\n",
      "  sustainable = renewable_nuclear.groupby('Year').sum()[['Energy_consumption', 'Energy_production', 'CO2_emission']]\n"
     ]
    },
    {
     "data": {
      "text/html": [
       "<div>\n",
       "<style scoped>\n",
       "    .dataframe tbody tr th:only-of-type {\n",
       "        vertical-align: middle;\n",
       "    }\n",
       "\n",
       "    .dataframe tbody tr th {\n",
       "        vertical-align: top;\n",
       "    }\n",
       "\n",
       "    .dataframe thead th {\n",
       "        text-align: right;\n",
       "    }\n",
       "</style>\n",
       "<table border=\"1\" class=\"dataframe\">\n",
       "  <thead>\n",
       "    <tr style=\"text-align: right;\">\n",
       "      <th></th>\n",
       "      <th>Energy_consumption</th>\n",
       "      <th>Energy_production</th>\n",
       "      <th>CO2_emission</th>\n",
       "      <th>Sustainable_energy_portion</th>\n",
       "    </tr>\n",
       "    <tr>\n",
       "      <th>Year</th>\n",
       "      <th></th>\n",
       "      <th></th>\n",
       "      <th></th>\n",
       "      <th></th>\n",
       "    </tr>\n",
       "  </thead>\n",
       "  <tbody>\n",
       "    <tr>\n",
       "      <th>1980</th>\n",
       "      <td>8.167511</td>\n",
       "      <td>8.167511</td>\n",
       "      <td>0.0</td>\n",
       "      <td>0.121637</td>\n",
       "    </tr>\n",
       "    <tr>\n",
       "      <th>1981</th>\n",
       "      <td>8.421277</td>\n",
       "      <td>8.421277</td>\n",
       "      <td>0.0</td>\n",
       "      <td>0.125861</td>\n",
       "    </tr>\n",
       "  </tbody>\n",
       "</table>\n",
       "</div>"
      ],
      "text/plain": [
       "      Energy_consumption  Energy_production  CO2_emission  \\\n",
       "Year                                                        \n",
       "1980            8.167511           8.167511           0.0   \n",
       "1981            8.421277           8.421277           0.0   \n",
       "\n",
       "      Sustainable_energy_portion  \n",
       "Year                              \n",
       "1980                    0.121637  \n",
       "1981                    0.125861  "
      ]
     },
     "execution_count": 17,
     "metadata": {},
     "output_type": "execute_result"
    }
   ],
   "source": [
    "# filter for US nuclear and renewable energy and combine them. Divide by all energy to get the portion\n",
    "renewable_nuclear = energy.loc[(energy.Country == 'United States')\n",
    "                               & ((energy.Energy_type == 'renewables_n_other')\n",
    "                                  | (energy.Energy_type == \"nuclear\"))].set_index('Year')\n",
    "sustainable = renewable_nuclear.groupby('Year').sum()[['Energy_consumption', 'Energy_production', 'CO2_emission']]\n",
    "sustainable.Energy_type = 'sustainable'\n",
    "all_energy = energy.loc[(energy.Country == 'United States') & (energy.Energy_type == 'all_energy_types')].set_index('Year')\n",
    "sustainable['Sustainable_energy_portion'] = sustainable.Energy_production / all_energy.Energy_production\n",
    "sustainable.head(2)"
   ]
  },
  {
   "cell_type": "markdown",
   "metadata": {},
   "source": [
    "We can also see from our dataset that CO2_emission for the sustainable energy is 0. It is not accurate because there are still carbon footprint for different types of sustainable energy. However, its carbon footprint is 10-30 times less the tradional power plants."
   ]
  },
  {
   "cell_type": "code",
   "execution_count": 18,
   "metadata": {},
   "outputs": [
    {
     "data": {
      "text/html": [
       "<div>\n",
       "<style scoped>\n",
       "    .dataframe tbody tr th:only-of-type {\n",
       "        vertical-align: middle;\n",
       "    }\n",
       "\n",
       "    .dataframe tbody tr th {\n",
       "        vertical-align: top;\n",
       "    }\n",
       "\n",
       "    .dataframe thead th {\n",
       "        text-align: right;\n",
       "    }\n",
       "</style>\n",
       "<table border=\"1\" class=\"dataframe\">\n",
       "  <thead>\n",
       "    <tr style=\"text-align: right;\">\n",
       "      <th></th>\n",
       "      <th>Days with AQI for all location</th>\n",
       "      <th>Good Days for all location</th>\n",
       "      <th>Percentage of Good Days</th>\n",
       "      <th>Energy_consumption</th>\n",
       "      <th>Energy_production</th>\n",
       "      <th>CO2_emission</th>\n",
       "      <th>Sustainable_energy_portion</th>\n",
       "    </tr>\n",
       "    <tr>\n",
       "      <th>Year</th>\n",
       "      <th></th>\n",
       "      <th></th>\n",
       "      <th></th>\n",
       "      <th></th>\n",
       "      <th></th>\n",
       "      <th></th>\n",
       "      <th></th>\n",
       "    </tr>\n",
       "  </thead>\n",
       "  <tbody>\n",
       "    <tr>\n",
       "      <th>1980</th>\n",
       "      <td>143587</td>\n",
       "      <td>77831</td>\n",
       "      <td>54.204768</td>\n",
       "      <td>8.167511</td>\n",
       "      <td>8.167511</td>\n",
       "      <td>0.0</td>\n",
       "      <td>0.121637</td>\n",
       "    </tr>\n",
       "    <tr>\n",
       "      <th>1981</th>\n",
       "      <td>149784</td>\n",
       "      <td>84275</td>\n",
       "      <td>56.264354</td>\n",
       "      <td>8.421277</td>\n",
       "      <td>8.421277</td>\n",
       "      <td>0.0</td>\n",
       "      <td>0.125861</td>\n",
       "    </tr>\n",
       "  </tbody>\n",
       "</table>\n",
       "</div>"
      ],
      "text/plain": [
       "      Days with AQI for all location  Good Days for all location  \\\n",
       "Year                                                               \n",
       "1980                          143587                       77831   \n",
       "1981                          149784                       84275   \n",
       "\n",
       "      Percentage of Good Days  Energy_consumption  Energy_production  \\\n",
       "Year                                                                   \n",
       "1980                54.204768            8.167511           8.167511   \n",
       "1981                56.264354            8.421277           8.421277   \n",
       "\n",
       "      CO2_emission  Sustainable_energy_portion  \n",
       "Year                                            \n",
       "1980           0.0                    0.121637  \n",
       "1981           0.0                    0.125861  "
      ]
     },
     "execution_count": 18,
     "metadata": {},
     "output_type": "execute_result"
    }
   ],
   "source": [
    "# Merge aqi and sustainable\n",
    "energy_aqi = aqi_grouped.merge(sustainable, on='Year')\n",
    "energy_aqi.head(2)"
   ]
  },
  {
   "cell_type": "code",
   "execution_count": 19,
   "metadata": {},
   "outputs": [
    {
     "data": {
      "text/plain": [
       "<Axes: xlabel='Percentage of Good Days', ylabel='Sustainable_energy_portion'>"
      ]
     },
     "execution_count": 19,
     "metadata": {},
     "output_type": "execute_result"
    },
    {
     "data": {
      "image/png": "[encoded data removed]",
      "text/plain": [
       "<Figure size 640x480 with 1 Axes>"
      ]
     },
     "metadata": {},
     "output_type": "display_data"
    }
   ],
   "source": [
    "# plot scatter plot on Percentage of Good Days vs Sustainable_energy_portion\n",
    "energy_aqi.plot.scatter(x='Percentage of Good Days', y='Sustainable_energy_portion')"
   ]
  },
  {
   "cell_type": "markdown",
   "metadata": {},
   "source": [
    "Looking at the graph, there seem to be a positive correlation between the two variables: portion of sustainable energy and percentage of good days. Next, we can calculate the correlation between these two variables to see if we draw the correct conclusion."
   ]
  },
  {
   "cell_type": "code",
   "execution_count": 20,
   "metadata": {},
   "outputs": [
    {
     "data": {
      "text/plain": [
       "0.8035293688360604"
      ]
     },
     "execution_count": 20,
     "metadata": {},
     "output_type": "execute_result"
    }
   ],
   "source": [
    "# Correlation between the portion of sustainable energy and the percentage of good days\n",
    "energy_aqi['Sustainable_energy_portion'].corr(energy_aqi['Percentage of Good Days'])"
   ]
  },
  {
   "cell_type": "markdown",
   "metadata": {},
   "source": [
    "We get a correlation of 0.80 which represents a strong positive correlation between two variables. The number tells us that we are on the right track. We can print out the correlation matrix using df.corr() function to see if there are other interesting variables for us to look at."
   ]
  },
  {
   "cell_type": "code",
   "execution_count": 21,
   "metadata": {},
   "outputs": [
    {
     "data": {
      "text/html": [
       "<div>\n",
       "<style scoped>\n",
       "    .dataframe tbody tr th:only-of-type {\n",
       "        vertical-align: middle;\n",
       "    }\n",
       "\n",
       "    .dataframe tbody tr th {\n",
       "        vertical-align: top;\n",
       "    }\n",
       "\n",
       "    .dataframe thead th {\n",
       "        text-align: right;\n",
       "    }\n",
       "</style>\n",
       "<table border=\"1\" class=\"dataframe\">\n",
       "  <thead>\n",
       "    <tr style=\"text-align: right;\">\n",
       "      <th></th>\n",
       "      <th>Percentage of Good Days</th>\n",
       "      <th>Energy_consumption</th>\n",
       "      <th>Energy_production</th>\n",
       "      <th>Sustainable_energy_portion</th>\n",
       "    </tr>\n",
       "  </thead>\n",
       "  <tbody>\n",
       "    <tr>\n",
       "      <th>Percentage of Good Days</th>\n",
       "      <td>1.000000</td>\n",
       "      <td>0.922719</td>\n",
       "      <td>0.922612</td>\n",
       "      <td>0.803529</td>\n",
       "    </tr>\n",
       "    <tr>\n",
       "      <th>Energy_consumption</th>\n",
       "      <td>0.922719</td>\n",
       "      <td>1.000000</td>\n",
       "      <td>0.999929</td>\n",
       "      <td>0.902069</td>\n",
       "    </tr>\n",
       "    <tr>\n",
       "      <th>Energy_production</th>\n",
       "      <td>0.922612</td>\n",
       "      <td>0.999929</td>\n",
       "      <td>1.000000</td>\n",
       "      <td>0.898568</td>\n",
       "    </tr>\n",
       "    <tr>\n",
       "      <th>Sustainable_energy_portion</th>\n",
       "      <td>0.803529</td>\n",
       "      <td>0.902069</td>\n",
       "      <td>0.898568</td>\n",
       "      <td>1.000000</td>\n",
       "    </tr>\n",
       "  </tbody>\n",
       "</table>\n",
       "</div>"
      ],
      "text/plain": [
       "                            Percentage of Good Days  Energy_consumption  \\\n",
       "Percentage of Good Days                    1.000000            0.922719   \n",
       "Energy_consumption                         0.922719            1.000000   \n",
       "Energy_production                          0.922612            0.999929   \n",
       "Sustainable_energy_portion                 0.803529            0.902069   \n",
       "\n",
       "                            Energy_production  Sustainable_energy_portion  \n",
       "Percentage of Good Days              0.922612                    0.803529  \n",
       "Energy_consumption                   0.999929                    0.902069  \n",
       "Energy_production                    1.000000                    0.898568  \n",
       "Sustainable_energy_portion           0.898568                    1.000000  "
      ]
     },
     "execution_count": 21,
     "metadata": {},
     "output_type": "execute_result"
    }
   ],
   "source": [
    "# Correlation matrix\n",
    "variables = [\"Percentage of Good Days\", \"Energy_consumption\", \"Energy_production\", \"Sustainable_energy_portion\"]\n",
    "energy_aqi[variables].corr()"
   ]
  },
  {
   "cell_type": "markdown",
   "metadata": {},
   "source": [
    "As we can see from the matrix, the percentage of good days has even a stronger correlation with Energy_production. The reason behind this might as we increased the amount of energy produced we found better ways to minimize the carbon footprint."
   ]
  },
  {
   "cell_type": "markdown",
   "metadata": {},
   "source": [
    "The energy dataset is very broad because it does not have detailed statistics about different types of sustainable energy. We will look at different datasets that contain the power plants of the world. The [global power plant](https://datasets.wri.org/dataset/globalpowerplantdatabase) dataset was created by the World Resources Institute. It has 35,000 power plants in 167 Countries. There are so many different types of sustainable energy. We might want to know which type of energy was the most popular one, and which type of energy had the most potential."
   ]
  },
  {
   "cell_type": "code",
   "execution_count": 22,
   "metadata": {},
   "outputs": [
    {
     "data": {
      "text/html": [
       "<div>\n",
       "<style scoped>\n",
       "    .dataframe tbody tr th:only-of-type {\n",
       "        vertical-align: middle;\n",
       "    }\n",
       "\n",
       "    .dataframe tbody tr th {\n",
       "        vertical-align: top;\n",
       "    }\n",
       "\n",
       "    .dataframe thead th {\n",
       "        text-align: right;\n",
       "    }\n",
       "</style>\n",
       "<table border=\"1\" class=\"dataframe\">\n",
       "  <thead>\n",
       "    <tr style=\"text-align: right;\">\n",
       "      <th></th>\n",
       "      <th>country</th>\n",
       "      <th>country_long</th>\n",
       "      <th>name</th>\n",
       "      <th>gppd_idnr</th>\n",
       "      <th>capacity_mw</th>\n",
       "      <th>latitude</th>\n",
       "      <th>longitude</th>\n",
       "      <th>primary_fuel</th>\n",
       "      <th>other_fuel1</th>\n",
       "      <th>other_fuel2</th>\n",
       "      <th>...</th>\n",
       "      <th>estimated_generation_gwh_2013</th>\n",
       "      <th>estimated_generation_gwh_2014</th>\n",
       "      <th>estimated_generation_gwh_2015</th>\n",
       "      <th>estimated_generation_gwh_2016</th>\n",
       "      <th>estimated_generation_gwh_2017</th>\n",
       "      <th>estimated_generation_note_2013</th>\n",
       "      <th>estimated_generation_note_2014</th>\n",
       "      <th>estimated_generation_note_2015</th>\n",
       "      <th>estimated_generation_note_2016</th>\n",
       "      <th>estimated_generation_note_2017</th>\n",
       "    </tr>\n",
       "  </thead>\n",
       "  <tbody>\n",
       "    <tr>\n",
       "      <th>0</th>\n",
       "      <td>AFG</td>\n",
       "      <td>Afghanistan</td>\n",
       "      <td>Kajaki Hydroelectric Power Plant Afghanistan</td>\n",
       "      <td>GEODB0040538</td>\n",
       "      <td>33.0</td>\n",
       "      <td>32.322</td>\n",
       "      <td>65.119</td>\n",
       "      <td>Hydro</td>\n",
       "      <td>NaN</td>\n",
       "      <td>NaN</td>\n",
       "      <td>...</td>\n",
       "      <td>123.77</td>\n",
       "      <td>162.90</td>\n",
       "      <td>97.39</td>\n",
       "      <td>137.76</td>\n",
       "      <td>119.50</td>\n",
       "      <td>HYDRO-V1</td>\n",
       "      <td>HYDRO-V1</td>\n",
       "      <td>HYDRO-V1</td>\n",
       "      <td>HYDRO-V1</td>\n",
       "      <td>HYDRO-V1</td>\n",
       "    </tr>\n",
       "    <tr>\n",
       "      <th>1</th>\n",
       "      <td>AFG</td>\n",
       "      <td>Afghanistan</td>\n",
       "      <td>Kandahar DOG</td>\n",
       "      <td>WKS0070144</td>\n",
       "      <td>10.0</td>\n",
       "      <td>31.670</td>\n",
       "      <td>65.795</td>\n",
       "      <td>Solar</td>\n",
       "      <td>NaN</td>\n",
       "      <td>NaN</td>\n",
       "      <td>...</td>\n",
       "      <td>18.43</td>\n",
       "      <td>17.48</td>\n",
       "      <td>18.25</td>\n",
       "      <td>17.70</td>\n",
       "      <td>18.29</td>\n",
       "      <td>SOLAR-V1-NO-AGE</td>\n",
       "      <td>SOLAR-V1-NO-AGE</td>\n",
       "      <td>SOLAR-V1-NO-AGE</td>\n",
       "      <td>SOLAR-V1-NO-AGE</td>\n",
       "      <td>SOLAR-V1-NO-AGE</td>\n",
       "    </tr>\n",
       "  </tbody>\n",
       "</table>\n",
       "<p>2 rows × 36 columns</p>\n",
       "</div>"
      ],
      "text/plain": [
       "  country country_long                                          name  \\\n",
       "0     AFG  Afghanistan  Kajaki Hydroelectric Power Plant Afghanistan   \n",
       "1     AFG  Afghanistan                                  Kandahar DOG   \n",
       "\n",
       "      gppd_idnr  capacity_mw  latitude  longitude primary_fuel other_fuel1  \\\n",
       "0  GEODB0040538         33.0    32.322     65.119        Hydro         NaN   \n",
       "1    WKS0070144         10.0    31.670     65.795        Solar         NaN   \n",
       "\n",
       "  other_fuel2  ... estimated_generation_gwh_2013  \\\n",
       "0         NaN  ...                        123.77   \n",
       "1         NaN  ...                         18.43   \n",
       "\n",
       "   estimated_generation_gwh_2014 estimated_generation_gwh_2015  \\\n",
       "0                         162.90                         97.39   \n",
       "1                          17.48                         18.25   \n",
       "\n",
       "  estimated_generation_gwh_2016 estimated_generation_gwh_2017  \\\n",
       "0                        137.76                        119.50   \n",
       "1                         17.70                         18.29   \n",
       "\n",
       "  estimated_generation_note_2013 estimated_generation_note_2014  \\\n",
       "0                       HYDRO-V1                       HYDRO-V1   \n",
       "1                SOLAR-V1-NO-AGE                SOLAR-V1-NO-AGE   \n",
       "\n",
       "   estimated_generation_note_2015  estimated_generation_note_2016  \\\n",
       "0                        HYDRO-V1                        HYDRO-V1   \n",
       "1                 SOLAR-V1-NO-AGE                 SOLAR-V1-NO-AGE   \n",
       "\n",
       "   estimated_generation_note_2017  \n",
       "0                        HYDRO-V1  \n",
       "1                 SOLAR-V1-NO-AGE  \n",
       "\n",
       "[2 rows x 36 columns]"
      ]
     },
     "execution_count": 22,
     "metadata": {},
     "output_type": "execute_result"
    }
   ],
   "source": [
    "# Read in the data from csv file\n",
    "power_plant = pd.read_csv('data/global_power_plant.csv', low_memory=False)\n",
    "power_plant.head(2)"
   ]
  },
  {
   "cell_type": "code",
   "execution_count": 23,
   "metadata": {},
   "outputs": [
    {
     "data": {
      "text/plain": [
       "country                            object\n",
       "country_long                       object\n",
       "name                               object\n",
       "gppd_idnr                          object\n",
       "capacity_mw                       float64\n",
       "latitude                          float64\n",
       "longitude                         float64\n",
       "primary_fuel                       object\n",
       "other_fuel1                        object\n",
       "other_fuel2                        object\n",
       "other_fuel3                        object\n",
       "commissioning_year                float64\n",
       "owner                              object\n",
       "source                             object\n",
       "url                                object\n",
       "geolocation_source                 object\n",
       "wepp_id                            object\n",
       "year_of_capacity_data             float64\n",
       "generation_gwh_2013               float64\n",
       "generation_gwh_2014               float64\n",
       "generation_gwh_2015               float64\n",
       "generation_gwh_2016               float64\n",
       "generation_gwh_2017               float64\n",
       "generation_gwh_2018               float64\n",
       "generation_gwh_2019               float64\n",
       "generation_data_source             object\n",
       "estimated_generation_gwh_2013     float64\n",
       "estimated_generation_gwh_2014     float64\n",
       "estimated_generation_gwh_2015     float64\n",
       "estimated_generation_gwh_2016     float64\n",
       "estimated_generation_gwh_2017     float64\n",
       "estimated_generation_note_2013     object\n",
       "estimated_generation_note_2014     object\n",
       "estimated_generation_note_2015     object\n",
       "estimated_generation_note_2016     object\n",
       "estimated_generation_note_2017     object\n",
       "dtype: object"
      ]
     },
     "metadata": {},
     "output_type": "display_data"
    },
    {
     "data": {
      "text/plain": [
       "array(['1009793', nan, '1009795', ..., '1033763', '1033856', '1033857'],\n",
       "      dtype=object)"
      ]
     },
     "execution_count": 23,
     "metadata": {},
     "output_type": "execute_result"
    }
   ],
   "source": [
    "# Check the data types of each column\n",
    "display(power_plant.dtypes)\n",
    "power_plant.wepp_id.unique()"
   ]
  },
  {
   "cell_type": "markdown",
   "metadata": {},
   "source": [
    "Pandas identified everything correctly except for wepp_id, which was incorrectly identified as an object. We can use pd.to_numeric to change it back to numbers."
   ]
  },
  {
   "cell_type": "code",
   "execution_count": 24,
   "metadata": {},
   "outputs": [
    {
     "data": {
      "text/plain": [
       "dtype('float64')"
      ]
     },
     "execution_count": 24,
     "metadata": {},
     "output_type": "execute_result"
    }
   ],
   "source": [
    "# Change wepp_id to numeric\n",
    "power_plant['wepp_id'] = pd.to_numeric(power_plant['wepp_id'], errors='coerce')\n",
    "power_plant.wepp_id.dtypes"
   ]
  },
  {
   "cell_type": "code",
   "execution_count": 25,
   "metadata": {},
   "outputs": [
    {
     "data": {
      "text/html": [
       "<div>\n",
       "<style scoped>\n",
       "    .dataframe tbody tr th:only-of-type {\n",
       "        vertical-align: middle;\n",
       "    }\n",
       "\n",
       "    .dataframe tbody tr th {\n",
       "        vertical-align: top;\n",
       "    }\n",
       "\n",
       "    .dataframe thead th {\n",
       "        text-align: right;\n",
       "    }\n",
       "</style>\n",
       "<table border=\"1\" class=\"dataframe\">\n",
       "  <thead>\n",
       "    <tr style=\"text-align: right;\">\n",
       "      <th></th>\n",
       "      <th>capacity_mw</th>\n",
       "      <th>latitude</th>\n",
       "      <th>longitude</th>\n",
       "      <th>commissioning_year</th>\n",
       "      <th>wepp_id</th>\n",
       "      <th>year_of_capacity_data</th>\n",
       "      <th>generation_gwh_2013</th>\n",
       "      <th>generation_gwh_2014</th>\n",
       "      <th>generation_gwh_2015</th>\n",
       "      <th>generation_gwh_2016</th>\n",
       "      <th>generation_gwh_2017</th>\n",
       "      <th>generation_gwh_2018</th>\n",
       "      <th>generation_gwh_2019</th>\n",
       "      <th>estimated_generation_gwh_2013</th>\n",
       "      <th>estimated_generation_gwh_2014</th>\n",
       "      <th>estimated_generation_gwh_2015</th>\n",
       "      <th>estimated_generation_gwh_2016</th>\n",
       "      <th>estimated_generation_gwh_2017</th>\n",
       "    </tr>\n",
       "  </thead>\n",
       "  <tbody>\n",
       "    <tr>\n",
       "      <th>count</th>\n",
       "      <td>34936.000000</td>\n",
       "      <td>34936.000000</td>\n",
       "      <td>34936.000000</td>\n",
       "      <td>17447.000000</td>\n",
       "      <td>1.614400e+04</td>\n",
       "      <td>14887.000000</td>\n",
       "      <td>6417.000000</td>\n",
       "      <td>7226.000000</td>\n",
       "      <td>8203.000000</td>\n",
       "      <td>9144.000000</td>\n",
       "      <td>9500.000000</td>\n",
       "      <td>9637.000000</td>\n",
       "      <td>9659.000000</td>\n",
       "      <td>16120.000000</td>\n",
       "      <td>16503.000000</td>\n",
       "      <td>17050.000000</td>\n",
       "      <td>17570.000000</td>\n",
       "      <td>33138.000000</td>\n",
       "    </tr>\n",
       "    <tr>\n",
       "      <th>mean</th>\n",
       "      <td>163.355148</td>\n",
       "      <td>32.816637</td>\n",
       "      <td>-6.972803</td>\n",
       "      <td>1997.414823</td>\n",
       "      <td>6.834034e+05</td>\n",
       "      <td>2018.218849</td>\n",
       "      <td>592.696107</td>\n",
       "      <td>656.863891</td>\n",
       "      <td>762.368840</td>\n",
       "      <td>693.149763</td>\n",
       "      <td>661.834161</td>\n",
       "      <td>517.320785</td>\n",
       "      <td>423.922436</td>\n",
       "      <td>239.112221</td>\n",
       "      <td>242.431122</td>\n",
       "      <td>235.866067</td>\n",
       "      <td>235.695265</td>\n",
       "      <td>716.443378</td>\n",
       "    </tr>\n",
       "    <tr>\n",
       "      <th>std</th>\n",
       "      <td>489.636072</td>\n",
       "      <td>22.638603</td>\n",
       "      <td>78.405850</td>\n",
       "      <td>23.397835</td>\n",
       "      <td>4.893219e+05</td>\n",
       "      <td>1.606428</td>\n",
       "      <td>2174.833482</td>\n",
       "      <td>2231.464288</td>\n",
       "      <td>2533.459828</td>\n",
       "      <td>2404.516759</td>\n",
       "      <td>2369.296957</td>\n",
       "      <td>1975.302686</td>\n",
       "      <td>1698.506485</td>\n",
       "      <td>1191.258172</td>\n",
       "      <td>1285.798297</td>\n",
       "      <td>1267.005223</td>\n",
       "      <td>1259.559841</td>\n",
       "      <td>2484.361200</td>\n",
       "    </tr>\n",
       "    <tr>\n",
       "      <th>min</th>\n",
       "      <td>1.000000</td>\n",
       "      <td>-77.847000</td>\n",
       "      <td>-179.977700</td>\n",
       "      <td>1896.000000</td>\n",
       "      <td>1.217100e+04</td>\n",
       "      <td>2000.000000</td>\n",
       "      <td>-947.600000</td>\n",
       "      <td>-989.619000</td>\n",
       "      <td>-864.428000</td>\n",
       "      <td>-768.620000</td>\n",
       "      <td>-934.944000</td>\n",
       "      <td>-982.622000</td>\n",
       "      <td>-780.339000</td>\n",
       "      <td>1.120000</td>\n",
       "      <td>0.870000</td>\n",
       "      <td>0.440000</td>\n",
       "      <td>0.300000</td>\n",
       "      <td>0.000000</td>\n",
       "    </tr>\n",
       "    <tr>\n",
       "      <th>25%</th>\n",
       "      <td>4.900000</td>\n",
       "      <td>29.256475</td>\n",
       "      <td>-77.641550</td>\n",
       "      <td>1988.000000</td>\n",
       "      <td>5.561450e+04</td>\n",
       "      <td>2017.000000</td>\n",
       "      <td>1.947000</td>\n",
       "      <td>2.260000</td>\n",
       "      <td>2.664500</td>\n",
       "      <td>2.729000</td>\n",
       "      <td>2.467000</td>\n",
       "      <td>2.242000</td>\n",
       "      <td>2.751500</td>\n",
       "      <td>8.620000</td>\n",
       "      <td>8.680000</td>\n",
       "      <td>8.380000</td>\n",
       "      <td>8.322500</td>\n",
       "      <td>8.180000</td>\n",
       "    </tr>\n",
       "    <tr>\n",
       "      <th>50%</th>\n",
       "      <td>16.745000</td>\n",
       "      <td>39.727750</td>\n",
       "      <td>-2.127100</td>\n",
       "      <td>2007.000000</td>\n",
       "      <td>1.021085e+06</td>\n",
       "      <td>2019.000000</td>\n",
       "      <td>23.426000</td>\n",
       "      <td>23.608500</td>\n",
       "      <td>26.142000</td>\n",
       "      <td>22.462389</td>\n",
       "      <td>17.876500</td>\n",
       "      <td>12.530000</td>\n",
       "      <td>11.530000</td>\n",
       "      <td>27.620000</td>\n",
       "      <td>28.250000</td>\n",
       "      <td>26.830000</td>\n",
       "      <td>27.555000</td>\n",
       "      <td>37.590000</td>\n",
       "    </tr>\n",
       "    <tr>\n",
       "      <th>75%</th>\n",
       "      <td>75.344250</td>\n",
       "      <td>46.263125</td>\n",
       "      <td>49.502675</td>\n",
       "      <td>2014.000000</td>\n",
       "      <td>1.066890e+06</td>\n",
       "      <td>2019.000000</td>\n",
       "      <td>199.706000</td>\n",
       "      <td>226.322250</td>\n",
       "      <td>285.862583</td>\n",
       "      <td>249.866750</td>\n",
       "      <td>214.505150</td>\n",
       "      <td>151.117000</td>\n",
       "      <td>122.781498</td>\n",
       "      <td>106.805000</td>\n",
       "      <td>106.980000</td>\n",
       "      <td>103.120000</td>\n",
       "      <td>107.237500</td>\n",
       "      <td>229.565000</td>\n",
       "    </tr>\n",
       "    <tr>\n",
       "      <th>max</th>\n",
       "      <td>22500.000000</td>\n",
       "      <td>71.292000</td>\n",
       "      <td>179.388700</td>\n",
       "      <td>2020.000000</td>\n",
       "      <td>1.118187e+06</td>\n",
       "      <td>2019.000000</td>\n",
       "      <td>50834.000000</td>\n",
       "      <td>32320.917000</td>\n",
       "      <td>37433.607000</td>\n",
       "      <td>32377.477000</td>\n",
       "      <td>36448.643000</td>\n",
       "      <td>35136.000000</td>\n",
       "      <td>31920.368000</td>\n",
       "      <td>48675.060000</td>\n",
       "      <td>58470.770000</td>\n",
       "      <td>57113.350000</td>\n",
       "      <td>60859.730000</td>\n",
       "      <td>82810.770000</td>\n",
       "    </tr>\n",
       "  </tbody>\n",
       "</table>\n",
       "</div>"
      ],
      "text/plain": [
       "        capacity_mw      latitude     longitude  commissioning_year  \\\n",
       "count  34936.000000  34936.000000  34936.000000        17447.000000   \n",
       "mean     163.355148     32.816637     -6.972803         1997.414823   \n",
       "std      489.636072     22.638603     78.405850           23.397835   \n",
       "min        1.000000    -77.847000   -179.977700         1896.000000   \n",
       "25%        4.900000     29.256475    -77.641550         1988.000000   \n",
       "50%       16.745000     39.727750     -2.127100         2007.000000   \n",
       "75%       75.344250     46.263125     49.502675         2014.000000   \n",
       "max    22500.000000     71.292000    179.388700         2020.000000   \n",
       "\n",
       "            wepp_id  year_of_capacity_data  generation_gwh_2013  \\\n",
       "count  1.614400e+04           14887.000000          6417.000000   \n",
       "mean   6.834034e+05            2018.218849           592.696107   \n",
       "std    4.893219e+05               1.606428          2174.833482   \n",
       "min    1.217100e+04            2000.000000          -947.600000   \n",
       "25%    5.561450e+04            2017.000000             1.947000   \n",
       "50%    1.021085e+06            2019.000000            23.426000   \n",
       "75%    1.066890e+06            2019.000000           199.706000   \n",
       "max    1.118187e+06            2019.000000         50834.000000   \n",
       "\n",
       "       generation_gwh_2014  generation_gwh_2015  generation_gwh_2016  \\\n",
       "count          7226.000000          8203.000000          9144.000000   \n",
       "mean            656.863891           762.368840           693.149763   \n",
       "std            2231.464288          2533.459828          2404.516759   \n",
       "min            -989.619000          -864.428000          -768.620000   \n",
       "25%               2.260000             2.664500             2.729000   \n",
       "50%              23.608500            26.142000            22.462389   \n",
       "75%             226.322250           285.862583           249.866750   \n",
       "max           32320.917000         37433.607000         32377.477000   \n",
       "\n",
       "       generation_gwh_2017  generation_gwh_2018  generation_gwh_2019  \\\n",
       "count          9500.000000          9637.000000          9659.000000   \n",
       "mean            661.834161           517.320785           423.922436   \n",
       "std            2369.296957          1975.302686          1698.506485   \n",
       "min            -934.944000          -982.622000          -780.339000   \n",
       "25%               2.467000             2.242000             2.751500   \n",
       "50%              17.876500            12.530000            11.530000   \n",
       "75%             214.505150           151.117000           122.781498   \n",
       "max           36448.643000         35136.000000         31920.368000   \n",
       "\n",
       "       estimated_generation_gwh_2013  estimated_generation_gwh_2014  \\\n",
       "count                   16120.000000                   16503.000000   \n",
       "mean                      239.112221                     242.431122   \n",
       "std                      1191.258172                    1285.798297   \n",
       "min                         1.120000                       0.870000   \n",
       "25%                         8.620000                       8.680000   \n",
       "50%                        27.620000                      28.250000   \n",
       "75%                       106.805000                     106.980000   \n",
       "max                     48675.060000                   58470.770000   \n",
       "\n",
       "       estimated_generation_gwh_2015  estimated_generation_gwh_2016  \\\n",
       "count                   17050.000000                   17570.000000   \n",
       "mean                      235.866067                     235.695265   \n",
       "std                      1267.005223                    1259.559841   \n",
       "min                         0.440000                       0.300000   \n",
       "25%                         8.380000                       8.322500   \n",
       "50%                        26.830000                      27.555000   \n",
       "75%                       103.120000                     107.237500   \n",
       "max                     57113.350000                   60859.730000   \n",
       "\n",
       "       estimated_generation_gwh_2017  \n",
       "count                   33138.000000  \n",
       "mean                      716.443378  \n",
       "std                      2484.361200  \n",
       "min                         0.000000  \n",
       "25%                         8.180000  \n",
       "50%                        37.590000  \n",
       "75%                       229.565000  \n",
       "max                     82810.770000  "
      ]
     },
     "execution_count": 25,
     "metadata": {},
     "output_type": "execute_result"
    }
   ],
   "source": [
    "# Describe the data to get some general information\n",
    "power_plant.describe()"
   ]
  },
  {
   "cell_type": "code",
   "execution_count": 26,
   "metadata": {},
   "outputs": [
    {
     "data": {
      "text/html": [
       "<div>\n",
       "<style scoped>\n",
       "    .dataframe tbody tr th:only-of-type {\n",
       "        vertical-align: middle;\n",
       "    }\n",
       "\n",
       "    .dataframe tbody tr th {\n",
       "        vertical-align: top;\n",
       "    }\n",
       "\n",
       "    .dataframe thead th {\n",
       "        text-align: right;\n",
       "    }\n",
       "</style>\n",
       "<table border=\"1\" class=\"dataframe\">\n",
       "  <thead>\n",
       "    <tr style=\"text-align: right;\">\n",
       "      <th></th>\n",
       "      <th>sum</th>\n",
       "      <th>mean</th>\n",
       "      <th>count</th>\n",
       "    </tr>\n",
       "    <tr>\n",
       "      <th>country_long</th>\n",
       "      <th></th>\n",
       "      <th></th>\n",
       "      <th></th>\n",
       "    </tr>\n",
       "  </thead>\n",
       "  <tbody>\n",
       "    <tr>\n",
       "      <th>China</th>\n",
       "      <td>1415067.380</td>\n",
       "      <td>334.136335</td>\n",
       "      <td>4235</td>\n",
       "    </tr>\n",
       "    <tr>\n",
       "      <th>United States of America</th>\n",
       "      <td>1204638.050</td>\n",
       "      <td>122.509717</td>\n",
       "      <td>9833</td>\n",
       "    </tr>\n",
       "    <tr>\n",
       "      <th>India</th>\n",
       "      <td>316088.546</td>\n",
       "      <td>198.922936</td>\n",
       "      <td>1589</td>\n",
       "    </tr>\n",
       "    <tr>\n",
       "      <th>Russia</th>\n",
       "      <td>228220.050</td>\n",
       "      <td>418.752385</td>\n",
       "      <td>545</td>\n",
       "    </tr>\n",
       "    <tr>\n",
       "      <th>Japan</th>\n",
       "      <td>215365.850</td>\n",
       "      <td>412.578257</td>\n",
       "      <td>522</td>\n",
       "    </tr>\n",
       "  </tbody>\n",
       "</table>\n",
       "</div>"
      ],
      "text/plain": [
       "                                  sum        mean  count\n",
       "country_long                                            \n",
       "China                     1415067.380  334.136335   4235\n",
       "United States of America  1204638.050  122.509717   9833\n",
       "India                      316088.546  198.922936   1589\n",
       "Russia                     228220.050  418.752385    545\n",
       "Japan                      215365.850  412.578257    522"
      ]
     },
     "execution_count": 26,
     "metadata": {},
     "output_type": "execute_result"
    }
   ],
   "source": [
    "# Aggregate the data by country and get the sum, mean and count of the capacity_mw.\n",
    "# Count will be the number of power plants each Country has\n",
    "power_plant.groupby('country_long').aggregate({'capacity_mw': \n",
    "                                               ['sum', 'mean',\n",
    "                                                 'count']}\n",
    "                                                )['capacity_mw'].sort_values('sum', ascending=False).head(5)\n"
   ]
  },
  {
   "cell_type": "markdown",
   "metadata": {},
   "source": [
    "One question we can ask is which type of sustainable energy contributed the most in terms of overall capacity."
   ]
  },
  {
   "cell_type": "code",
   "execution_count": 27,
   "metadata": {},
   "outputs": [
    {
     "data": {
      "text/plain": [
       "array(['Hydro', 'Solar', 'Other', 'Wind', 'Nuclear', 'Wave and Tidal',\n",
       "       'Geothermal', 'Storage'], dtype=object)"
      ]
     },
     "execution_count": 27,
     "metadata": {},
     "output_type": "execute_result"
    }
   ],
   "source": [
    "power_plant.primary_fuel.unique()\n",
    "# We need to drop traditional energy sources\n",
    "traditional_energy = ['Oil', 'Gas', 'Coal', 'Petcoke', 'Waste', 'Cogeneration', 'Biomass']\n",
    "sustainable_power_plant = power_plant[~power_plant.primary_fuel.isin(traditional_energy)]\n",
    "sustainable_power_plant.primary_fuel.unique()"
   ]
  },
  {
   "cell_type": "code",
   "execution_count": 28,
   "metadata": {},
   "outputs": [
    {
     "data": {
      "text/html": [
       "<div>\n",
       "<style scoped>\n",
       "    .dataframe tbody tr th:only-of-type {\n",
       "        vertical-align: middle;\n",
       "    }\n",
       "\n",
       "    .dataframe tbody tr th {\n",
       "        vertical-align: top;\n",
       "    }\n",
       "\n",
       "    .dataframe thead tr th {\n",
       "        text-align: left;\n",
       "    }\n",
       "\n",
       "    .dataframe thead tr:last-of-type th {\n",
       "        text-align: right;\n",
       "    }\n",
       "</style>\n",
       "<table border=\"1\" class=\"dataframe\">\n",
       "  <thead>\n",
       "    <tr>\n",
       "      <th></th>\n",
       "      <th>capacity_mw</th>\n",
       "    </tr>\n",
       "    <tr>\n",
       "      <th></th>\n",
       "      <th>sum</th>\n",
       "    </tr>\n",
       "    <tr>\n",
       "      <th>primary_fuel</th>\n",
       "      <th></th>\n",
       "    </tr>\n",
       "  </thead>\n",
       "  <tbody>\n",
       "    <tr>\n",
       "      <th>Hydro</th>\n",
       "      <td>1.053160e+06</td>\n",
       "    </tr>\n",
       "    <tr>\n",
       "      <th>Nuclear</th>\n",
       "      <td>4.079118e+05</td>\n",
       "    </tr>\n",
       "    <tr>\n",
       "      <th>Wind</th>\n",
       "      <td>2.630537e+05</td>\n",
       "    </tr>\n",
       "    <tr>\n",
       "      <th>Solar</th>\n",
       "      <td>1.883123e+05</td>\n",
       "    </tr>\n",
       "    <tr>\n",
       "      <th>Geothermal</th>\n",
       "      <td>1.268775e+04</td>\n",
       "    </tr>\n",
       "    <tr>\n",
       "      <th>Other</th>\n",
       "      <td>3.612860e+03</td>\n",
       "    </tr>\n",
       "    <tr>\n",
       "      <th>Storage</th>\n",
       "      <td>1.712300e+03</td>\n",
       "    </tr>\n",
       "    <tr>\n",
       "      <th>Wave and Tidal</th>\n",
       "      <td>5.522000e+02</td>\n",
       "    </tr>\n",
       "  </tbody>\n",
       "</table>\n",
       "</div>"
      ],
      "text/plain": [
       "                 capacity_mw\n",
       "                         sum\n",
       "primary_fuel                \n",
       "Hydro           1.053160e+06\n",
       "Nuclear         4.079118e+05\n",
       "Wind            2.630537e+05\n",
       "Solar           1.883123e+05\n",
       "Geothermal      1.268775e+04\n",
       "Other           3.612860e+03\n",
       "Storage         1.712300e+03\n",
       "Wave and Tidal  5.522000e+02"
      ]
     },
     "execution_count": 28,
     "metadata": {},
     "output_type": "execute_result"
    }
   ],
   "source": [
    "# Sort the sustainable power plants by capacity_mw\n",
    "sustainable_rank = sustainable_power_plant.groupby('primary_fuel').aggregate({'capacity_mw':['sum']}).sort_values \\\n",
    "                                (('capacity_mw', 'sum'), ascending=False)\n",
    "sustainable_rank"
   ]
  },
  {
   "cell_type": "markdown",
   "metadata": {},
   "source": [
    "Hydro energy contributed the most, with nuclear energy second. As we previously discussed. The nuclear energy had safety issues, and it was also the reason that some Countries in the world discontinued their nuclear energy programs."
   ]
  },
  {
   "cell_type": "code",
   "execution_count": 29,
   "metadata": {},
   "outputs": [
    {
     "data": {
      "image/png": "[encoded data removed]",
      "text/plain": [
       "<Figure size 800x600 with 1 Axes>"
      ]
     },
     "metadata": {},
     "output_type": "display_data"
    }
   ],
   "source": [
    "import seaborn as sns\n",
    "# Ignore future deprication warnings\n",
    "import warnings\n",
    "warnings.filterwarnings('ignore')\n",
    "import matplotlib.pyplot as plt\n",
    "\n",
    "# Calculate the percentage of capacity_mw for each sustainable energy type and get the top 5\n",
    "sustainable_rank['percentage'] = sustainable_rank['capacity_mw']['sum'] / (sustainable_rank['capacity_mw']['sum'].sum())\n",
    "top_5 = sustainable_rank.head(5)\n",
    "\n",
    "# Plot the pie chart using seaborn\n",
    "plt.figure(figsize=(8, 6))\n",
    "sns.set_palette(\"Set2\")\n",
    "plt.pie(x=top_5['percentage'], labels=top_5.index, autopct='%1.1f%%', startangle=90)\n",
    "plt.title('Percentage of capacity_mw for each sustainable energy type')\n",
    "plt.ylabel('')\n",
    "plt.show()"
   ]
  },
  {
   "cell_type": "markdown",
   "metadata": {},
   "source": [
    "The graph reveals the top 5 sustainable energy sources: hydro, nuclear, wind, solar, and geothermal. This information can be valuable for making policy decisions, such as determining which energy sources to prioritize."
   ]
  },
  {
   "cell_type": "code",
   "execution_count": 30,
   "metadata": {},
   "outputs": [
    {
     "data": {
      "text/html": [
       "<div>\n",
       "<style scoped>\n",
       "    .dataframe tbody tr th:only-of-type {\n",
       "        vertical-align: middle;\n",
       "    }\n",
       "\n",
       "    .dataframe tbody tr th {\n",
       "        vertical-align: top;\n",
       "    }\n",
       "\n",
       "    .dataframe thead th {\n",
       "        text-align: right;\n",
       "    }\n",
       "</style>\n",
       "<table border=\"1\" class=\"dataframe\">\n",
       "  <thead>\n",
       "    <tr style=\"text-align: right;\">\n",
       "      <th>primary_fuel</th>\n",
       "      <th>Geothermal</th>\n",
       "      <th>Hydro</th>\n",
       "      <th>Nuclear</th>\n",
       "      <th>Other</th>\n",
       "      <th>Solar</th>\n",
       "      <th>Storage</th>\n",
       "      <th>Wave and Tidal</th>\n",
       "      <th>Wind</th>\n",
       "    </tr>\n",
       "  </thead>\n",
       "  <tbody>\n",
       "    <tr>\n",
       "      <th>generation_gwh_2013</th>\n",
       "      <td>15179.82508</td>\n",
       "      <td>372793.281701</td>\n",
       "      <td>7.733500e+05</td>\n",
       "      <td>1337.944050</td>\n",
       "      <td>8832.921488</td>\n",
       "      <td>2660.057995</td>\n",
       "      <td>0.0</td>\n",
       "      <td>173362.881748</td>\n",
       "    </tr>\n",
       "    <tr>\n",
       "      <th>generation_gwh_2014</th>\n",
       "      <td>15578.90900</td>\n",
       "      <td>416425.784953</td>\n",
       "      <td>8.103716e+05</td>\n",
       "      <td>1111.788140</td>\n",
       "      <td>16985.995408</td>\n",
       "      <td>1656.477961</td>\n",
       "      <td>0.0</td>\n",
       "      <td>189718.724090</td>\n",
       "    </tr>\n",
       "    <tr>\n",
       "      <th>generation_gwh_2015</th>\n",
       "      <td>16576.00500</td>\n",
       "      <td>467117.189793</td>\n",
       "      <td>1.433099e+06</td>\n",
       "      <td>2763.283570</td>\n",
       "      <td>27070.857324</td>\n",
       "      <td>108.833000</td>\n",
       "      <td>0.0</td>\n",
       "      <td>206535.638741</td>\n",
       "    </tr>\n",
       "    <tr>\n",
       "      <th>generation_gwh_2016</th>\n",
       "      <td>16927.95800</td>\n",
       "      <td>549077.771389</td>\n",
       "      <td>1.476810e+06</td>\n",
       "      <td>2729.496131</td>\n",
       "      <td>38929.910656</td>\n",
       "      <td>109.624000</td>\n",
       "      <td>0.0</td>\n",
       "      <td>248569.722556</td>\n",
       "    </tr>\n",
       "    <tr>\n",
       "      <th>generation_gwh_2017</th>\n",
       "      <td>16187.48900</td>\n",
       "      <td>501114.647545</td>\n",
       "      <td>1.469150e+06</td>\n",
       "      <td>2194.068476</td>\n",
       "      <td>55591.611593</td>\n",
       "      <td>33.810000</td>\n",
       "      <td>0.0</td>\n",
       "      <td>270629.813688</td>\n",
       "    </tr>\n",
       "  </tbody>\n",
       "</table>\n",
       "</div>"
      ],
      "text/plain": [
       "primary_fuel          Geothermal          Hydro       Nuclear        Other  \\\n",
       "generation_gwh_2013  15179.82508  372793.281701  7.733500e+05  1337.944050   \n",
       "generation_gwh_2014  15578.90900  416425.784953  8.103716e+05  1111.788140   \n",
       "generation_gwh_2015  16576.00500  467117.189793  1.433099e+06  2763.283570   \n",
       "generation_gwh_2016  16927.95800  549077.771389  1.476810e+06  2729.496131   \n",
       "generation_gwh_2017  16187.48900  501114.647545  1.469150e+06  2194.068476   \n",
       "\n",
       "primary_fuel                Solar      Storage  Wave and Tidal           Wind  \n",
       "generation_gwh_2013   8832.921488  2660.057995             0.0  173362.881748  \n",
       "generation_gwh_2014  16985.995408  1656.477961             0.0  189718.724090  \n",
       "generation_gwh_2015  27070.857324   108.833000             0.0  206535.638741  \n",
       "generation_gwh_2016  38929.910656   109.624000             0.0  248569.722556  \n",
       "generation_gwh_2017  55591.611593    33.810000             0.0  270629.813688  "
      ]
     },
     "metadata": {},
     "output_type": "display_data"
    },
    {
     "data": {
      "image/png": "[encoded data removed]",
      "text/plain": [
       "<Figure size 640x480 with 1 Axes>"
      ]
     },
     "metadata": {},
     "output_type": "display_data"
    }
   ],
   "source": [
    "import seaborn as sns\n",
    "import matplotlib.pyplot as plt\n",
    "\n",
    "# Get the aggregated generation_gwh for each sustainable energy type from 2013 to 2017\n",
    "gen2013_2017 = sustainable_power_plant.groupby('primary_fuel').aggregate({'generation_gwh_2013':'sum',\n",
    "                                                           'generation_gwh_2014':'sum',\n",
    "                                                           'generation_gwh_2015':'sum',\n",
    "                                                           'generation_gwh_2016':'sum',\n",
    "                                                           'generation_gwh_2017':'sum'})\n",
    "\n",
    "# Transpose the table\n",
    "display(gen2013_2017.transpose())\n",
    "gen2013_2017_t = gen2013_2017.transpose()\n",
    "# Rename index for readability\n",
    "gen2013_2017_t.index = [2013, 2014, 2015, 2016, 2017]\n",
    "\n",
    "# Plot the power plants energy generation from 2013 to 2017 using seaborn\n",
    "sns.lineplot(data=gen2013_2017_t)\n",
    "plt.xlabel('Year')\n",
    "plt.ylabel('Generation GWh')\n",
    "plt.title('Estimated Energy Generation from Different Sustainable energy sources (2013-2017)')\n",
    "plt.legend(title='Energy Type', bbox_to_anchor=(1.05, 1), loc='upper left')\n",
    "plt.grid(True)\n",
    "plt.show()\n"
   ]
  },
  {
   "cell_type": "markdown",
   "metadata": {},
   "source": [
    "The nuclear energy increased a lot in the 4 years time span. It indicates that this type of energy has a lot of potential. We have to note that there are a lot of missing data especially for hydro power and wave and tidal."
   ]
  },
  {
   "cell_type": "code",
   "execution_count": 31,
   "metadata": {},
   "outputs": [
    {
     "data": {
      "text/plain": [
       "year_of_capacity_data             20049\n",
       "generation_gwh_2013               28519\n",
       "generation_gwh_2014               27710\n",
       "generation_gwh_2015               26733\n",
       "generation_gwh_2016               25792\n",
       "generation_gwh_2017               25436\n",
       "generation_gwh_2018               25299\n",
       "generation_gwh_2019               25277\n",
       "generation_data_source            23536\n",
       "estimated_generation_gwh_2013     18816\n",
       "estimated_generation_gwh_2014     18433\n",
       "estimated_generation_gwh_2015     17886\n",
       "estimated_generation_gwh_2016     17366\n",
       "estimated_generation_gwh_2017      1798\n",
       "estimated_generation_note_2013        0\n",
       "estimated_generation_note_2014        0\n",
       "estimated_generation_note_2015        0\n",
       "estimated_generation_note_2016        0\n",
       "estimated_generation_note_2017        0\n",
       "dtype: int64"
      ]
     },
     "execution_count": 31,
     "metadata": {},
     "output_type": "execute_result"
    }
   ],
   "source": [
    "(power_plant.isnull().sum())[-19:]"
   ]
  },
  {
   "cell_type": "markdown",
   "metadata": {},
   "source": [
    "We have a lot of missing data the columns. However the estimated_generation_gwh_2017 only had 1798 power plants' data missing out of 35,000. It can be really helpful in building a model."
   ]
  },
  {
   "cell_type": "markdown",
   "metadata": {},
   "source": [
    "## Model questions\n",
    "1. A regression model predicting the percentage of good days defined by AQI using the portion of sustainable energy. If we can find the percentage increasing, we can come to a conclusion that increasing sustainable energy will give us cleaner air.\n",
    "2. Predicting the growth of energy generation for each energy type based on past data. We can find out which type of energy is growing at the fastest rate.\n",
    "2. Using the portion of sustainable energy data to predict the CO2 emission coming from energy generation in the future."
   ]
  },
  {
   "cell_type": "markdown",
   "metadata": {},
   "source": [
    "Because of the inherent flaws of previous datasets: they do not show that the sustainable power is the major contributor to cleaner environment, I am introducing another dataset from [EPA](https://www.epa.gov/ghgreporting/data-sets). The EPA dataset contains the CO2 emission from all facilities that report to the EPA, therefore we can find out whether the cleaner air is due to tighter regulation or reduced emission from adopting sustainable."
   ]
  },
  {
   "cell_type": "code",
   "execution_count": 32,
   "metadata": {},
   "outputs": [
    {
     "data": {
      "text/html": [
       "<div>\n",
       "<style scoped>\n",
       "    .dataframe tbody tr th:only-of-type {\n",
       "        vertical-align: middle;\n",
       "    }\n",
       "\n",
       "    .dataframe tbody tr th {\n",
       "        vertical-align: top;\n",
       "    }\n",
       "\n",
       "    .dataframe thead th {\n",
       "        text-align: right;\n",
       "    }\n",
       "</style>\n",
       "<table border=\"1\" class=\"dataframe\">\n",
       "  <thead>\n",
       "    <tr style=\"text-align: right;\">\n",
       "      <th></th>\n",
       "      <th>REPORTING YEAR</th>\n",
       "      <th>FACILITY NAME</th>\n",
       "      <th>GHGRP ID</th>\n",
       "      <th>LOCATION ADDRESS</th>\n",
       "      <th>CITY NAME</th>\n",
       "      <th>COUNTY NAME</th>\n",
       "      <th>STATE</th>\n",
       "      <th>ZIP CODE</th>\n",
       "      <th>PARENT COMPANIES</th>\n",
       "      <th>GHG QUANTITY (METRIC TONS CO2e)</th>\n",
       "      <th>SUBPARTS</th>\n",
       "      <th>SECTOR-SUBSECTOR</th>\n",
       "    </tr>\n",
       "  </thead>\n",
       "  <tbody>\n",
       "    <tr>\n",
       "      <th>0</th>\n",
       "      <td>2010</td>\n",
       "      <td>23RD AND 3RD</td>\n",
       "      <td>1000112</td>\n",
       "      <td>730 3RD AVENUE</td>\n",
       "      <td>BROOKLYN</td>\n",
       "      <td>Kings</td>\n",
       "      <td>NY</td>\n",
       "      <td>11232</td>\n",
       "      <td>New York Power Authority (100%)</td>\n",
       "      <td>82960</td>\n",
       "      <td>C,D</td>\n",
       "      <td>Power Plants-Power Plants</td>\n",
       "    </tr>\n",
       "    <tr>\n",
       "      <th>1</th>\n",
       "      <td>2010</td>\n",
       "      <td>29-6 #2 CENTRAL DELIVERY POINT</td>\n",
       "      <td>1006394</td>\n",
       "      <td>NaN</td>\n",
       "      <td>Blanco</td>\n",
       "      <td>Rio Arriba</td>\n",
       "      <td>NM</td>\n",
       "      <td>87412</td>\n",
       "      <td>Williams Partners L.P. (100%)</td>\n",
       "      <td>25177</td>\n",
       "      <td>C (Abbr)</td>\n",
       "      <td>Petroleum and Natural Gas Systems-Other Petrol...</td>\n",
       "    </tr>\n",
       "  </tbody>\n",
       "</table>\n",
       "</div>"
      ],
      "text/plain": [
       "   REPORTING YEAR                   FACILITY NAME  GHGRP ID LOCATION ADDRESS  \\\n",
       "0            2010                    23RD AND 3RD   1000112   730 3RD AVENUE   \n",
       "1            2010  29-6 #2 CENTRAL DELIVERY POINT   1006394              NaN   \n",
       "\n",
       "  CITY NAME COUNTY NAME STATE  ZIP CODE                 PARENT COMPANIES  \\\n",
       "0  BROOKLYN       Kings    NY     11232  New York Power Authority (100%)   \n",
       "1    Blanco  Rio Arriba    NM     87412    Williams Partners L.P. (100%)   \n",
       "\n",
       "   GHG QUANTITY (METRIC TONS CO2e)  SUBPARTS  \\\n",
       "0                            82960       C,D   \n",
       "1                            25177  C (Abbr)   \n",
       "\n",
       "                                    SECTOR-SUBSECTOR  \n",
       "0                          Power Plants-Power Plants  \n",
       "1  Petroleum and Natural Gas Systems-Other Petrol...  "
      ]
     },
     "execution_count": 32,
     "metadata": {},
     "output_type": "execute_result"
    }
   ],
   "source": [
    "ghg = pd.read_csv('data/ghg.csv')\n",
    "ghg.head(2)"
   ]
  },
  {
   "cell_type": "code",
   "execution_count": 33,
   "metadata": {},
   "outputs": [
    {
     "data": {
      "text/plain": [
       "REPORTING YEAR                      int64\n",
       "FACILITY NAME                      object\n",
       "GHGRP ID                            int64\n",
       "LOCATION ADDRESS                   object\n",
       "CITY NAME                          object\n",
       "COUNTY NAME                        object\n",
       "STATE                              object\n",
       "ZIP CODE                            int64\n",
       "PARENT COMPANIES                   object\n",
       "GHG QUANTITY (METRIC TONS CO2e)     int64\n",
       "SUBPARTS                           object\n",
       "SECTOR-SUBSECTOR                   object\n",
       "dtype: object"
      ]
     },
     "execution_count": 33,
     "metadata": {},
     "output_type": "execute_result"
    }
   ],
   "source": [
    "# Check the data types of each column\n",
    "ghg.dtypes"
   ]
  },
  {
   "cell_type": "markdown",
   "metadata": {},
   "source": [
    "Pandas correctly identified all dtypes of this dataset. We can start with the sector-subsector column, and use it to filter for power plants. Then get two dataframes: first one with only power plants data and another without power plants. "
   ]
  },
  {
   "cell_type": "code",
   "execution_count": 34,
   "metadata": {},
   "outputs": [],
   "source": [
    "ghg.shape\n",
    "# filter for power plants\n",
    "power_ghg = ghg[ghg[\"SECTOR-SUBSECTOR\"] == 'Power Plants-Power Plants']\n",
    "# filter for non-power plant facilities\n",
    "non_power_ghg = ghg[ghg[\"SECTOR-SUBSECTOR\"] != 'Power Plants-Power Plants']"
   ]
  },
  {
   "cell_type": "code",
   "execution_count": 35,
   "metadata": {},
   "outputs": [
    {
     "data": {
      "image/png": "[encoded data removed]",
      "text/plain": [
       "<Figure size 1000x600 with 1 Axes>"
      ]
     },
     "metadata": {},
     "output_type": "display_data"
    }
   ],
   "source": [
    "import seaborn as sns\n",
    "\n",
    "# Group the data by year and get the sum of GHG Quantity\n",
    "ghg_trend = power_ghg.groupby('REPORTING YEAR')['GHG QUANTITY (METRIC TONS CO2e)'].sum()\n",
    "non_power_ghg_trend = non_power_ghg.groupby('REPORTING YEAR')['GHG QUANTITY (METRIC TONS CO2e)'].sum()\n",
    "# Plot the trend\n",
    "plt.figure(figsize=(10, 6))\n",
    "sns.lineplot(data=ghg_trend, marker='o', label='Power Plants')\n",
    "sns.lineplot(data=non_power_ghg_trend, marker='o', label='Non-Power Plants')\n",
    "plt.xlabel('Year')\n",
    "plt.ylabel('GHG Quantity (Metric Tons CO2e)')\n",
    "plt.title('Trend of Greenhouse Gas Quantity for the Last 12 Years')\n",
    "plt.grid(True)\n",
    "plt.legend()\n",
    "plt.show()\n"
   ]
  },
  {
   "cell_type": "markdown",
   "metadata": {},
   "source": [
    "After the plotting the trend of greenhouse gas from two different sectors, we realize that the power plants sector contributed positively to cleaner air while the non-power plant sector was contributing negatively."
   ]
  },
  {
   "cell_type": "markdown",
   "metadata": {},
   "source": [
    "We can use neuralprophet to train our model on time-series data. We should be able to train two models: one for predicting future CO2 emission on power plants and another for predicting future CO2 emission on non-powerplant facilities. Because neuralprophet require our dataframe in a specific format. Column which has name 'ds' to be the data column and 'y' column containing the data we try to predict"
   ]
  },
  {
   "cell_type": "code",
   "execution_count": 36,
   "metadata": {},
   "outputs": [
    {
     "data": {
      "text/html": [
       "<div>\n",
       "<style scoped>\n",
       "    .dataframe tbody tr th:only-of-type {\n",
       "        vertical-align: middle;\n",
       "    }\n",
       "\n",
       "    .dataframe tbody tr th {\n",
       "        vertical-align: top;\n",
       "    }\n",
       "\n",
       "    .dataframe thead th {\n",
       "        text-align: right;\n",
       "    }\n",
       "</style>\n",
       "<table border=\"1\" class=\"dataframe\">\n",
       "  <thead>\n",
       "    <tr style=\"text-align: right;\">\n",
       "      <th></th>\n",
       "      <th>ds</th>\n",
       "      <th>y</th>\n",
       "    </tr>\n",
       "  </thead>\n",
       "  <tbody>\n",
       "    <tr>\n",
       "      <th>0</th>\n",
       "      <td>2010-01-01</td>\n",
       "      <td>2303730101</td>\n",
       "    </tr>\n",
       "    <tr>\n",
       "      <th>1</th>\n",
       "      <td>2011-01-01</td>\n",
       "      <td>2147044886</td>\n",
       "    </tr>\n",
       "    <tr>\n",
       "      <th>2</th>\n",
       "      <td>2012-01-01</td>\n",
       "      <td>2006236319</td>\n",
       "    </tr>\n",
       "    <tr>\n",
       "      <th>3</th>\n",
       "      <td>2013-01-01</td>\n",
       "      <td>2017941545</td>\n",
       "    </tr>\n",
       "    <tr>\n",
       "      <th>4</th>\n",
       "      <td>2014-01-01</td>\n",
       "      <td>2010633642</td>\n",
       "    </tr>\n",
       "  </tbody>\n",
       "</table>\n",
       "</div>"
      ],
      "text/plain": [
       "          ds           y\n",
       "0 2010-01-01  2303730101\n",
       "1 2011-01-01  2147044886\n",
       "2 2012-01-01  2006236319\n",
       "3 2013-01-01  2017941545\n",
       "4 2014-01-01  2010633642"
      ]
     },
     "execution_count": 36,
     "metadata": {},
     "output_type": "execute_result"
    }
   ],
   "source": [
    "from neuralprophet import NeuralProphet\n",
    "power_byyear = power_ghg.groupby('REPORTING YEAR', as_index=False)['GHG QUANTITY (METRIC TONS CO2e)'].sum()\n",
    "power_byyear.rename(columns={'REPORTING YEAR': 'ds', 'GHG QUANTITY (METRIC TONS CO2e)': 'y'}, inplace=True)\n",
    "power_byyear['ds'] = pd.to_datetime(power_byyear['ds'], format='%Y')\n",
    "power_byyear.head(5)"
   ]
  },
  {
   "cell_type": "code",
   "execution_count": 37,
   "metadata": {},
   "outputs": [
    {
     "name": "stderr",
     "output_type": "stream",
     "text": [
      "WARNING - (NP.forecaster.fit) - When Global modeling with local normalization, metrics are displayed in normalized scale.\n",
      "INFO - (NP.df_utils._infer_frequency) - Major frequency YS corresponds to 92.308% of the data.\n",
      "INFO - (NP.df_utils._infer_frequency) - Dataframe freq automatically defined as YS\n",
      "INFO - (NP.config.init_data_params) - Setting normalization to global as only one dataframe provided for training.\n",
      "INFO - (NP.utils.set_auto_seasonalities) - Disabling weekly seasonality. Run NeuralProphet with weekly_seasonality=True to override this.\n",
      "INFO - (NP.utils.set_auto_seasonalities) - Disabling daily seasonality. Run NeuralProphet with daily_seasonality=True to override this.\n",
      "INFO - (NP.config.set_auto_batch_epoch) - Auto-set batch_size to 13\n",
      "INFO - (NP.config.set_auto_batch_epoch) - Auto-set epochs to 1000\n",
      "WARNING - (NP.config.set_lr_finder_args) - Learning rate finder: The number of batches (1) is too small than the required number for the learning rate finder (201). The results might not be optimal.\n"
     ]
    },
    {
     "data": {
      "application/vnd.jupyter.widget-view+json": {
       "model_id": "6f57b858351d46d49185420913642f61",
       "version_major": 2,
       "version_minor": 0
      },
      "text/plain": [
       "Finding best initial lr:   0%|          | 0/201 [00:00<?, ?it/s]"
      ]
     },
     "metadata": {},
     "output_type": "display_data"
    },
    {
     "data": {
      "application/vnd.jupyter.widget-view+json": {
       "model_id": "2790e1bbadee4ffc88025fbf28fc1f75",
       "version_major": 2,
       "version_minor": 0
      },
      "text/plain": [
       "Training: 0it [00:00, ?it/s]"
      ]
     },
     "metadata": {},
     "output_type": "display_data"
    }
   ],
   "source": [
    "model = NeuralProphet()\n",
    "metrics = model.fit(power_byyear)"
   ]
  },
  {
   "cell_type": "code",
   "execution_count": 64,
   "metadata": {},
   "outputs": [
    {
     "name": "stderr",
     "output_type": "stream",
     "text": [
      "INFO - (NP.df_utils._infer_frequency) - Major frequency YS corresponds to 92.308% of the data.\n",
      "INFO - (NP.df_utils._infer_frequency) - Defined frequency is equal to major frequency - YS\n",
      "INFO - (NP.df_utils._infer_frequency) - Major frequency YS corresponds to 92.308% of the data.\n",
      "INFO - (NP.df_utils._infer_frequency) - Defined frequency is equal to major frequency - YS\n"
     ]
    },
    {
     "data": {
      "application/vnd.jupyter.widget-view+json": {
       "model_id": "f5f02bf7b5864bb1aa24c7f1004eae65",
       "version_major": 2,
       "version_minor": 0
      },
      "text/plain": [
       "Predicting: 1it [00:00, ?it/s]"
      ]
     },
     "metadata": {},
     "output_type": "display_data"
    },
    {
     "name": "stderr",
     "output_type": "stream",
     "text": [
      "INFO - (NP.df_utils.return_df_in_original_format) - Returning df with no ID column\n"
     ]
    },
    {
     "data": {
      "image/png": "[encoded data removed]",
      "text/plain": [
       "<Figure size 640x480 with 1 Axes>"
      ]
     },
     "metadata": {},
     "output_type": "display_data"
    }
   ],
   "source": [
    "forecast = model.predict(power_byyear)\n",
    "\n",
    "model.plot(forecast)\n",
    "sns.lineplot(data=forecast, x='ds', y='yhat1', label='predicted', color='blue')\n",
    "sns.scatterplot(data=power_byyear, x='ds', y='y', label='actual', color='red')\n",
    "plt.xlabel('Year')\n",
    "plt.ylabel('metric tons of CO2')\n",
    "plt.title('Forecast vs Actual')\n",
    "plt.legend()\n",
    "plt.show()"
   ]
  },
  {
   "cell_type": "code",
   "execution_count": 63,
   "metadata": {},
   "outputs": [
    {
     "name": "stderr",
     "output_type": "stream",
     "text": [
      "INFO - (NP.df_utils._infer_frequency) - Major frequency YS corresponds to 92.308% of the data.\n",
      "INFO - (NP.df_utils._infer_frequency) - Defined frequency is equal to major frequency - YS\n",
      "INFO - (NP.df_utils.return_df_in_original_format) - Returning df with no ID column\n",
      "INFO - (NP.df_utils._infer_frequency) - Major frequency YS corresponds to 98.413% of the data.\n",
      "INFO - (NP.df_utils._infer_frequency) - Defined frequency is equal to major frequency - YS\n",
      "INFO - (NP.df_utils._infer_frequency) - Major frequency YS corresponds to 98.413% of the data.\n",
      "INFO - (NP.df_utils._infer_frequency) - Defined frequency is equal to major frequency - YS\n"
     ]
    },
    {
     "data": {
      "application/vnd.jupyter.widget-view+json": {
       "model_id": "61e441cc129944238e23694914d1516e",
       "version_major": 2,
       "version_minor": 0
      },
      "text/plain": [
       "Predicting: 1it [00:00, ?it/s]"
      ]
     },
     "metadata": {},
     "output_type": "display_data"
    },
    {
     "name": "stderr",
     "output_type": "stream",
     "text": [
      "INFO - (NP.df_utils.return_df_in_original_format) - Returning df with no ID column\n"
     ]
    },
    {
     "data": {
      "image/png": "[encoded data removed]",
      "text/plain": [
       "<Figure size 640x480 with 1 Axes>"
      ]
     },
     "metadata": {},
     "output_type": "display_data"
    }
   ],
   "source": [
    "import seaborn as sns\n",
    "\n",
    "df_future = model.make_future_dataframe(power_byyear, n_historic_predictions=True, periods=50)\n",
    "forecast = model.predict(df_future)\n",
    "\n",
    "#plt.figure(figsize=(10, 6))\n",
    "sns.lineplot(data=forecast, x='ds', y='yhat1', label='predicted', color='blue')\n",
    "sns.scatterplot(data=power_byyear, x='ds', y='y', label='actual', color='red')\n",
    "plt.xlabel('Year')\n",
    "plt.ylabel('metric tons of CO2')\n",
    "plt.title('Forecast vs Actual')\n",
    "plt.legend()\n",
    "plt.show()"
   ]
  },
  {
   "cell_type": "markdown",
   "metadata": {},
   "source": [
    "Note: The API I use might be expired when you run this notebook. You can get an api easily from https://www.eia.gov/opendata/register.php\n",
    "I saved the dataframe to csv file in data/eia_emission.csv"
   ]
  },
  {
   "cell_type": "code",
   "execution_count": 40,
   "metadata": {},
   "outputs": [],
   "source": [
    "import requests\n",
    "res = requests.get('https://api.eia.gov/v2/co2-emissions/co2-emissions-aggregates/data/?frequency=annual&data[0]=value&facets[sectorId][]=EC&facets[fuelId][]=TO&start=1970&end=2021&sort[0][column]=period&sort[0][direction]=asc&offset=0&length=5000&api_key=CZdQsisRJzwOfqUWV3jiMPNEx3ZbHcuJ2VQus04i')\n"
   ]
  },
  {
   "cell_type": "code",
   "execution_count": 41,
   "metadata": {},
   "outputs": [
    {
     "data": {
      "text/html": [
       "<div>\n",
       "<style scoped>\n",
       "    .dataframe tbody tr th:only-of-type {\n",
       "        vertical-align: middle;\n",
       "    }\n",
       "\n",
       "    .dataframe tbody tr th {\n",
       "        vertical-align: top;\n",
       "    }\n",
       "\n",
       "    .dataframe thead th {\n",
       "        text-align: right;\n",
       "    }\n",
       "</style>\n",
       "<table border=\"1\" class=\"dataframe\">\n",
       "  <thead>\n",
       "    <tr style=\"text-align: right;\">\n",
       "      <th></th>\n",
       "      <th>period</th>\n",
       "      <th>sectorId</th>\n",
       "      <th>sector-name</th>\n",
       "      <th>fuelId</th>\n",
       "      <th>fuel-name</th>\n",
       "      <th>stateId</th>\n",
       "      <th>state-name</th>\n",
       "      <th>value</th>\n",
       "      <th>value-units</th>\n",
       "    </tr>\n",
       "  </thead>\n",
       "  <tbody>\n",
       "    <tr>\n",
       "      <th>0</th>\n",
       "      <td>1970</td>\n",
       "      <td>EC</td>\n",
       "      <td>Electric Power carbon dioxide emissions</td>\n",
       "      <td>TO</td>\n",
       "      <td>All Fuels</td>\n",
       "      <td>SD</td>\n",
       "      <td>South Dakota</td>\n",
       "      <td>0.855094</td>\n",
       "      <td>million metric tons of CO2</td>\n",
       "    </tr>\n",
       "    <tr>\n",
       "      <th>1</th>\n",
       "      <td>1970</td>\n",
       "      <td>EC</td>\n",
       "      <td>Electric Power carbon dioxide emissions</td>\n",
       "      <td>TO</td>\n",
       "      <td>All Fuels</td>\n",
       "      <td>FL</td>\n",
       "      <td>Florida</td>\n",
       "      <td>42.032100</td>\n",
       "      <td>million metric tons of CO2</td>\n",
       "    </tr>\n",
       "    <tr>\n",
       "      <th>2</th>\n",
       "      <td>1970</td>\n",
       "      <td>EC</td>\n",
       "      <td>Electric Power carbon dioxide emissions</td>\n",
       "      <td>TO</td>\n",
       "      <td>All Fuels</td>\n",
       "      <td>ID</td>\n",
       "      <td>Idaho</td>\n",
       "      <td>0.000296</td>\n",
       "      <td>million metric tons of CO2</td>\n",
       "    </tr>\n",
       "    <tr>\n",
       "      <th>3</th>\n",
       "      <td>1970</td>\n",
       "      <td>EC</td>\n",
       "      <td>Electric Power carbon dioxide emissions</td>\n",
       "      <td>TO</td>\n",
       "      <td>All Fuels</td>\n",
       "      <td>IL</td>\n",
       "      <td>Illinois</td>\n",
       "      <td>67.779979</td>\n",
       "      <td>million metric tons of CO2</td>\n",
       "    </tr>\n",
       "    <tr>\n",
       "      <th>4</th>\n",
       "      <td>1970</td>\n",
       "      <td>EC</td>\n",
       "      <td>Electric Power carbon dioxide emissions</td>\n",
       "      <td>TO</td>\n",
       "      <td>All Fuels</td>\n",
       "      <td>GA</td>\n",
       "      <td>Georgia</td>\n",
       "      <td>20.902089</td>\n",
       "      <td>million metric tons of CO2</td>\n",
       "    </tr>\n",
       "    <tr>\n",
       "      <th>...</th>\n",
       "      <td>...</td>\n",
       "      <td>...</td>\n",
       "      <td>...</td>\n",
       "      <td>...</td>\n",
       "      <td>...</td>\n",
       "      <td>...</td>\n",
       "      <td>...</td>\n",
       "      <td>...</td>\n",
       "      <td>...</td>\n",
       "    </tr>\n",
       "    <tr>\n",
       "      <th>2699</th>\n",
       "      <td>2021</td>\n",
       "      <td>EC</td>\n",
       "      <td>Electric Power carbon dioxide emissions</td>\n",
       "      <td>TO</td>\n",
       "      <td>All Fuels</td>\n",
       "      <td>GA</td>\n",
       "      <td>Georgia</td>\n",
       "      <td>40.869726</td>\n",
       "      <td>million metric tons of CO2</td>\n",
       "    </tr>\n",
       "    <tr>\n",
       "      <th>2700</th>\n",
       "      <td>2021</td>\n",
       "      <td>EC</td>\n",
       "      <td>Electric Power carbon dioxide emissions</td>\n",
       "      <td>TO</td>\n",
       "      <td>All Fuels</td>\n",
       "      <td>FL</td>\n",
       "      <td>Florida</td>\n",
       "      <td>91.232062</td>\n",
       "      <td>million metric tons of CO2</td>\n",
       "    </tr>\n",
       "    <tr>\n",
       "      <th>2701</th>\n",
       "      <td>2021</td>\n",
       "      <td>EC</td>\n",
       "      <td>Electric Power carbon dioxide emissions</td>\n",
       "      <td>TO</td>\n",
       "      <td>All Fuels</td>\n",
       "      <td>HI</td>\n",
       "      <td>Hawaii</td>\n",
       "      <td>5.773726</td>\n",
       "      <td>million metric tons of CO2</td>\n",
       "    </tr>\n",
       "    <tr>\n",
       "      <th>2702</th>\n",
       "      <td>2021</td>\n",
       "      <td>EC</td>\n",
       "      <td>Electric Power carbon dioxide emissions</td>\n",
       "      <td>TO</td>\n",
       "      <td>All Fuels</td>\n",
       "      <td>ID</td>\n",
       "      <td>Idaho</td>\n",
       "      <td>2.002855</td>\n",
       "      <td>million metric tons of CO2</td>\n",
       "    </tr>\n",
       "    <tr>\n",
       "      <th>2703</th>\n",
       "      <td>2021</td>\n",
       "      <td>EC</td>\n",
       "      <td>Electric Power carbon dioxide emissions</td>\n",
       "      <td>TO</td>\n",
       "      <td>All Fuels</td>\n",
       "      <td>DC</td>\n",
       "      <td>District of Columbia</td>\n",
       "      <td>0.000000</td>\n",
       "      <td>million metric tons of CO2</td>\n",
       "    </tr>\n",
       "  </tbody>\n",
       "</table>\n",
       "<p>2704 rows × 9 columns</p>\n",
       "</div>"
      ],
      "text/plain": [
       "      period sectorId                              sector-name fuelId  \\\n",
       "0       1970       EC  Electric Power carbon dioxide emissions     TO   \n",
       "1       1970       EC  Electric Power carbon dioxide emissions     TO   \n",
       "2       1970       EC  Electric Power carbon dioxide emissions     TO   \n",
       "3       1970       EC  Electric Power carbon dioxide emissions     TO   \n",
       "4       1970       EC  Electric Power carbon dioxide emissions     TO   \n",
       "...      ...      ...                                      ...    ...   \n",
       "2699    2021       EC  Electric Power carbon dioxide emissions     TO   \n",
       "2700    2021       EC  Electric Power carbon dioxide emissions     TO   \n",
       "2701    2021       EC  Electric Power carbon dioxide emissions     TO   \n",
       "2702    2021       EC  Electric Power carbon dioxide emissions     TO   \n",
       "2703    2021       EC  Electric Power carbon dioxide emissions     TO   \n",
       "\n",
       "      fuel-name stateId            state-name      value  \\\n",
       "0     All Fuels      SD          South Dakota   0.855094   \n",
       "1     All Fuels      FL               Florida  42.032100   \n",
       "2     All Fuels      ID                 Idaho   0.000296   \n",
       "3     All Fuels      IL              Illinois  67.779979   \n",
       "4     All Fuels      GA               Georgia  20.902089   \n",
       "...         ...     ...                   ...        ...   \n",
       "2699  All Fuels      GA               Georgia  40.869726   \n",
       "2700  All Fuels      FL               Florida  91.232062   \n",
       "2701  All Fuels      HI                Hawaii   5.773726   \n",
       "2702  All Fuels      ID                 Idaho   2.002855   \n",
       "2703  All Fuels      DC  District of Columbia   0.000000   \n",
       "\n",
       "                     value-units  \n",
       "0     million metric tons of CO2  \n",
       "1     million metric tons of CO2  \n",
       "2     million metric tons of CO2  \n",
       "3     million metric tons of CO2  \n",
       "4     million metric tons of CO2  \n",
       "...                          ...  \n",
       "2699  million metric tons of CO2  \n",
       "2700  million metric tons of CO2  \n",
       "2701  million metric tons of CO2  \n",
       "2702  million metric tons of CO2  \n",
       "2703  million metric tons of CO2  \n",
       "\n",
       "[2704 rows x 9 columns]"
      ]
     },
     "execution_count": 41,
     "metadata": {},
     "output_type": "execute_result"
    }
   ],
   "source": [
    "import json\n",
    "import os\n",
    "data = res.json()['response']['data']\n",
    "d = pd.read_json(json.dumps(data))\n",
    "file_path = 'data/eia_emission.csv'\n",
    "# Check if the file already exists\n",
    "if not os.path.exists(file_path):\n",
    "    # Save the dataframe to a CSV file\n",
    "    d.to_csv('data/eia_emission.csv')\n",
    "d"
   ]
  },
  {
   "cell_type": "code",
   "execution_count": 42,
   "metadata": {},
   "outputs": [
    {
     "data": {
      "text/html": [
       "<div>\n",
       "<style scoped>\n",
       "    .dataframe tbody tr th:only-of-type {\n",
       "        vertical-align: middle;\n",
       "    }\n",
       "\n",
       "    .dataframe tbody tr th {\n",
       "        vertical-align: top;\n",
       "    }\n",
       "\n",
       "    .dataframe thead th {\n",
       "        text-align: right;\n",
       "    }\n",
       "</style>\n",
       "<table border=\"1\" class=\"dataframe\">\n",
       "  <thead>\n",
       "    <tr style=\"text-align: right;\">\n",
       "      <th></th>\n",
       "      <th>ds</th>\n",
       "      <th>y</th>\n",
       "    </tr>\n",
       "  </thead>\n",
       "  <tbody>\n",
       "    <tr>\n",
       "      <th>0</th>\n",
       "      <td>1970-01-01</td>\n",
       "      <td>2122.880364</td>\n",
       "    </tr>\n",
       "    <tr>\n",
       "      <th>1</th>\n",
       "      <td>1971-01-01</td>\n",
       "      <td>2197.656772</td>\n",
       "    </tr>\n",
       "  </tbody>\n",
       "</table>\n",
       "</div>"
      ],
      "text/plain": [
       "          ds            y\n",
       "0 1970-01-01  2122.880364\n",
       "1 1971-01-01  2197.656772"
      ]
     },
     "execution_count": 42,
     "metadata": {},
     "output_type": "execute_result"
    }
   ],
   "source": [
    "eia_grouped = d.groupby('period').sum().reset_index()\n",
    "eia_grouped.rename(columns={'period': 'ds', 'value': 'y'}, inplace=True)\n",
    "eia_grouped['ds'] = pd.to_datetime(eia_grouped['ds'], format='%Y')\n",
    "eia_grouped.head(2)"
   ]
  },
  {
   "cell_type": "code",
   "execution_count": 66,
   "metadata": {},
   "outputs": [
    {
     "name": "stderr",
     "output_type": "stream",
     "text": [
      "WARNING - (NP.forecaster.fit) - When Global modeling with local normalization, metrics are displayed in normalized scale.\n",
      "INFO - (NP.df_utils._infer_frequency) - Major frequency YS corresponds to 98.077% of the data.\n",
      "INFO - (NP.df_utils._infer_frequency) - Dataframe freq automatically defined as YS\n",
      "INFO - (NP.config.init_data_params) - Setting normalization to global as only one dataframe provided for training.\n",
      "INFO - (NP.utils.set_auto_seasonalities) - Disabling weekly seasonality. Run NeuralProphet with weekly_seasonality=True to override this.\n",
      "INFO - (NP.utils.set_auto_seasonalities) - Disabling daily seasonality. Run NeuralProphet with daily_seasonality=True to override this.\n",
      "INFO - (NP.config.set_auto_batch_epoch) - Auto-set batch_size to 16\n",
      "INFO - (NP.config.set_auto_batch_epoch) - Auto-set epochs to 843\n",
      "WARNING - (NP.config.set_lr_finder_args) - Learning rate finder: The number of batches (4) is too small than the required number for the learning rate finder (204). The results might not be optimal.\n"
     ]
    },
    {
     "data": {
      "application/vnd.jupyter.widget-view+json": {
       "model_id": "fcd6315f5f97473ea3e362158a76a413",
       "version_major": 2,
       "version_minor": 0
      },
      "text/plain": [
       "Finding best initial lr:   0%|          | 0/204 [00:00<?, ?it/s]"
      ]
     },
     "metadata": {},
     "output_type": "display_data"
    },
    {
     "name": "stderr",
     "output_type": "stream",
     "text": [
      "INFO - (NP.df_utils._infer_frequency) - Major frequency YS corresponds to 98.077% of the data.\n",
      "INFO - (NP.df_utils._infer_frequency) - Defined frequency is equal to major frequency - YS\n",
      "INFO - (NP.df_utils._infer_frequency) - Major frequency YS corresponds to 98.077% of the data.\n",
      "INFO - (NP.df_utils._infer_frequency) - Defined frequency is equal to major frequency - YS\n",
      "INFO - (NP.df_utils.return_df_in_original_format) - Returning df with no ID column\n"
     ]
    },
    {
     "data": {
      "image/png": "[encoded data removed]",
      "text/plain": [
       "<Figure size 640x480 with 1 Axes>"
      ]
     },
     "metadata": {},
     "output_type": "display_data"
    },
    {
     "data": {
      "text/html": [
       "<div>\n",
       "<style scoped>\n",
       "    .dataframe tbody tr th:only-of-type {\n",
       "        vertical-align: middle;\n",
       "    }\n",
       "\n",
       "    .dataframe tbody tr th {\n",
       "        vertical-align: top;\n",
       "    }\n",
       "\n",
       "    .dataframe thead th {\n",
       "        text-align: right;\n",
       "    }\n",
       "</style>\n",
       "<table border=\"1\" class=\"dataframe\">\n",
       "  <thead>\n",
       "    <tr style=\"text-align: right;\">\n",
       "      <th></th>\n",
       "      <th>Energy_production</th>\n",
       "    </tr>\n",
       "    <tr>\n",
       "      <th>Year</th>\n",
       "      <th></th>\n",
       "    </tr>\n",
       "  </thead>\n",
       "  <tbody>\n",
       "    <tr>\n",
       "      <th>1980</th>\n",
       "      <td>20.775178</td>\n",
       "    </tr>\n",
       "    <tr>\n",
       "      <th>1981</th>\n",
       "      <td>21.287405</td>\n",
       "    </tr>\n",
       "    <tr>\n",
       "      <th>1982</th>\n",
       "      <td>21.955623</td>\n",
       "    </tr>\n",
       "    <tr>\n",
       "      <th>1983</th>\n",
       "      <td>23.256802</td>\n",
       "    </tr>\n",
       "    <tr>\n",
       "      <th>1984</th>\n",
       "      <td>23.944559</td>\n",
       "    </tr>\n",
       "    <tr>\n",
       "      <th>1985</th>\n",
       "      <td>24.226571</td>\n",
       "    </tr>\n",
       "    <tr>\n",
       "      <th>1986</th>\n",
       "      <td>24.583064</td>\n",
       "    </tr>\n",
       "    <tr>\n",
       "      <th>1987</th>\n",
       "      <td>24.595130</td>\n",
       "    </tr>\n",
       "    <tr>\n",
       "      <th>1988</th>\n",
       "      <td>25.363243</td>\n",
       "    </tr>\n",
       "    <tr>\n",
       "      <th>1989</th>\n",
       "      <td>25.782776</td>\n",
       "    </tr>\n",
       "    <tr>\n",
       "      <th>1990</th>\n",
       "      <td>26.460764</td>\n",
       "    </tr>\n",
       "    <tr>\n",
       "      <th>1991</th>\n",
       "      <td>27.081303</td>\n",
       "    </tr>\n",
       "    <tr>\n",
       "      <th>1992</th>\n",
       "      <td>27.135693</td>\n",
       "    </tr>\n",
       "    <tr>\n",
       "      <th>1993</th>\n",
       "      <td>28.364004</td>\n",
       "    </tr>\n",
       "    <tr>\n",
       "      <th>1994</th>\n",
       "      <td>28.848822</td>\n",
       "    </tr>\n",
       "    <tr>\n",
       "      <th>1995</th>\n",
       "      <td>30.220324</td>\n",
       "    </tr>\n",
       "    <tr>\n",
       "      <th>1996</th>\n",
       "      <td>30.824605</td>\n",
       "    </tr>\n",
       "    <tr>\n",
       "      <th>1997</th>\n",
       "      <td>31.180961</td>\n",
       "    </tr>\n",
       "    <tr>\n",
       "      <th>1998</th>\n",
       "      <td>31.066864</td>\n",
       "    </tr>\n",
       "    <tr>\n",
       "      <th>1999</th>\n",
       "      <td>31.735621</td>\n",
       "    </tr>\n",
       "    <tr>\n",
       "      <th>2000</th>\n",
       "      <td>32.215807</td>\n",
       "    </tr>\n",
       "    <tr>\n",
       "      <th>2001</th>\n",
       "      <td>31.870681</td>\n",
       "    </tr>\n",
       "    <tr>\n",
       "      <th>2002</th>\n",
       "      <td>32.196803</td>\n",
       "    </tr>\n",
       "    <tr>\n",
       "      <th>2003</th>\n",
       "      <td>32.610038</td>\n",
       "    </tr>\n",
       "    <tr>\n",
       "      <th>2004</th>\n",
       "      <td>34.605381</td>\n",
       "    </tr>\n",
       "    <tr>\n",
       "      <th>2005</th>\n",
       "      <td>36.350090</td>\n",
       "    </tr>\n",
       "    <tr>\n",
       "      <th>2006</th>\n",
       "      <td>37.788567</td>\n",
       "    </tr>\n",
       "    <tr>\n",
       "      <th>2007</th>\n",
       "      <td>39.156613</td>\n",
       "    </tr>\n",
       "    <tr>\n",
       "      <th>2008</th>\n",
       "      <td>41.759956</td>\n",
       "    </tr>\n",
       "    <tr>\n",
       "      <th>2009</th>\n",
       "      <td>43.029353</td>\n",
       "    </tr>\n",
       "    <tr>\n",
       "      <th>2010</th>\n",
       "      <td>46.787173</td>\n",
       "    </tr>\n",
       "    <tr>\n",
       "      <th>2011</th>\n",
       "      <td>48.824169</td>\n",
       "    </tr>\n",
       "    <tr>\n",
       "      <th>2012</th>\n",
       "      <td>50.881275</td>\n",
       "    </tr>\n",
       "    <tr>\n",
       "      <th>2013</th>\n",
       "      <td>54.624777</td>\n",
       "    </tr>\n",
       "    <tr>\n",
       "      <th>2014</th>\n",
       "      <td>57.117674</td>\n",
       "    </tr>\n",
       "    <tr>\n",
       "      <th>2015</th>\n",
       "      <td>58.037888</td>\n",
       "    </tr>\n",
       "    <tr>\n",
       "      <th>2016</th>\n",
       "      <td>61.415850</td>\n",
       "    </tr>\n",
       "    <tr>\n",
       "      <th>2017</th>\n",
       "      <td>64.670935</td>\n",
       "    </tr>\n",
       "    <tr>\n",
       "      <th>2018</th>\n",
       "      <td>68.417714</td>\n",
       "    </tr>\n",
       "    <tr>\n",
       "      <th>2019</th>\n",
       "      <td>70.472507</td>\n",
       "    </tr>\n",
       "  </tbody>\n",
       "</table>\n",
       "</div>"
      ],
      "text/plain": [
       "      Energy_production\n",
       "Year                   \n",
       "1980          20.775178\n",
       "1981          21.287405\n",
       "1982          21.955623\n",
       "1983          23.256802\n",
       "1984          23.944559\n",
       "1985          24.226571\n",
       "1986          24.583064\n",
       "1987          24.595130\n",
       "1988          25.363243\n",
       "1989          25.782776\n",
       "1990          26.460764\n",
       "1991          27.081303\n",
       "1992          27.135693\n",
       "1993          28.364004\n",
       "1994          28.848822\n",
       "1995          30.220324\n",
       "1996          30.824605\n",
       "1997          31.180961\n",
       "1998          31.066864\n",
       "1999          31.735621\n",
       "2000          32.215807\n",
       "2001          31.870681\n",
       "2002          32.196803\n",
       "2003          32.610038\n",
       "2004          34.605381\n",
       "2005          36.350090\n",
       "2006          37.788567\n",
       "2007          39.156613\n",
       "2008          41.759956\n",
       "2009          43.029353\n",
       "2010          46.787173\n",
       "2011          48.824169\n",
       "2012          50.881275\n",
       "2013          54.624777\n",
       "2014          57.117674\n",
       "2015          58.037888\n",
       "2016          61.415850\n",
       "2017          64.670935\n",
       "2018          68.417714\n",
       "2019          70.472507"
      ]
     },
     "execution_count": 66,
     "metadata": {},
     "output_type": "execute_result"
    }
   ],
   "source": [
    "m = NeuralProphet()\n",
    "metrics = m.fit(eia_grouped, progress=None)\n",
    "forecast = m.predict(eia_grouped)\n",
    "sns.lineplot(data=forecast, x='ds', y='yhat1', label='predicted', color='blue')\n",
    "sns.scatterplot(data=eia_grouped, x='ds', y='y', label='actual', color='red')\n",
    "plt.xlabel('Year')\n",
    "plt.ylabel('million metric tons of CO2')\n",
    "plt.title('Forecast vs Actual')\n",
    "plt.legend()\n",
    "plt.show()"
   ]
  },
  {
   "cell_type": "code",
   "execution_count": 46,
   "metadata": {},
   "outputs": [
    {
     "name": "stderr",
     "output_type": "stream",
     "text": [
      "INFO - (NP.df_utils._infer_frequency) - Major frequency YS corresponds to 98.077% of the data.\n",
      "INFO - (NP.df_utils._infer_frequency) - Defined frequency is equal to major frequency - YS\n",
      "INFO - (NP.df_utils.return_df_in_original_format) - Returning df with no ID column\n",
      "INFO - (NP.df_utils._infer_frequency) - Major frequency YS corresponds to 98.78% of the data.\n",
      "INFO - (NP.df_utils._infer_frequency) - Defined frequency is equal to major frequency - YS\n",
      "INFO - (NP.df_utils._infer_frequency) - Major frequency YS corresponds to 98.78% of the data.\n",
      "INFO - (NP.df_utils._infer_frequency) - Defined frequency is equal to major frequency - YS\n"
     ]
    },
    {
     "data": {
      "application/vnd.jupyter.widget-view+json": {
       "model_id": "43a7e96f3f25472cb4ce661d327809da",
       "version_major": 2,
       "version_minor": 0
      },
      "text/plain": [
       "Predicting: 4it [00:00, ?it/s]"
      ]
     },
     "metadata": {},
     "output_type": "display_data"
    },
    {
     "name": "stderr",
     "output_type": "stream",
     "text": [
      "INFO - (NP.df_utils.return_df_in_original_format) - Returning df with no ID column\n"
     ]
    },
    {
     "data": {
      "application/vnd.jupyter.widget-view+json": {
       "model_id": "2310a5a261bc4abeb93a2ad9d1f160c3",
       "version_major": 2,
       "version_minor": 0
      },
      "text/plain": [
       "FigureWidgetResampler({\n",
       "    'data': [{'fill': 'none',\n",
       "              'line': {'color': 'rgba(45, 146, 255, 1.0)', 'width': 2},\n",
       "              'mode': 'lines',\n",
       "              'name': 'yhat1',\n",
       "              'type': 'scatter',\n",
       "              'uid': '6c2c97d8-6703-4809-9f5d-c3f289ac4102',\n",
       "              'x': array([datetime.datetime(1970, 1, 1, 0, 0),\n",
       "                          datetime.datetime(1971, 1, 1, 0, 0),\n",
       "                          datetime.datetime(1972, 1, 1, 0, 0),\n",
       "                          datetime.datetime(1973, 1, 1, 0, 0),\n",
       "                          datetime.datetime(1974, 1, 1, 0, 0),\n",
       "                          datetime.datetime(1975, 1, 1, 0, 0),\n",
       "                          datetime.datetime(1976, 1, 1, 0, 0),\n",
       "                          datetime.datetime(1977, 1, 1, 0, 0),\n",
       "                          datetime.datetime(1978, 1, 1, 0, 0),\n",
       "                          datetime.datetime(1979, 1, 1, 0, 0),\n",
       "                          datetime.datetime(1980, 1, 1, 0, 0),\n",
       "                          datetime.datetime(1981, 1, 1, 0, 0),\n",
       "                          datetime.datetime(1982, 1, 1, 0, 0),\n",
       "                          datetime.datetime(1983, 1, 1, 0, 0),\n",
       "                          datetime.datetime(1984, 1, 1, 0, 0),\n",
       "                          datetime.datetime(1985, 1, 1, 0, 0),\n",
       "                          datetime.datetime(1986, 1, 1, 0, 0),\n",
       "                          datetime.datetime(1987, 1, 1, 0, 0),\n",
       "                          datetime.datetime(1988, 1, 1, 0, 0),\n",
       "                          datetime.datetime(1989, 1, 1, 0, 0),\n",
       "                          datetime.datetime(1990, 1, 1, 0, 0),\n",
       "                          datetime.datetime(1991, 1, 1, 0, 0),\n",
       "                          datetime.datetime(1992, 1, 1, 0, 0),\n",
       "                          datetime.datetime(1993, 1, 1, 0, 0),\n",
       "                          datetime.datetime(1994, 1, 1, 0, 0),\n",
       "                          datetime.datetime(1995, 1, 1, 0, 0),\n",
       "                          datetime.datetime(1996, 1, 1, 0, 0),\n",
       "                          datetime.datetime(1997, 1, 1, 0, 0),\n",
       "                          datetime.datetime(1998, 1, 1, 0, 0),\n",
       "                          datetime.datetime(1999, 1, 1, 0, 0),\n",
       "                          datetime.datetime(2000, 1, 1, 0, 0),\n",
       "                          datetime.datetime(2001, 1, 1, 0, 0),\n",
       "                          datetime.datetime(2002, 1, 1, 0, 0),\n",
       "                          datetime.datetime(2003, 1, 1, 0, 0),\n",
       "                          datetime.datetime(2004, 1, 1, 0, 0),\n",
       "                          datetime.datetime(2005, 1, 1, 0, 0),\n",
       "                          datetime.datetime(2006, 1, 1, 0, 0),\n",
       "                          datetime.datetime(2007, 1, 1, 0, 0),\n",
       "                          datetime.datetime(2008, 1, 1, 0, 0),\n",
       "                          datetime.datetime(2009, 1, 1, 0, 0),\n",
       "                          datetime.datetime(2010, 1, 1, 0, 0),\n",
       "                          datetime.datetime(2011, 1, 1, 0, 0),\n",
       "                          datetime.datetime(2012, 1, 1, 0, 0),\n",
       "                          datetime.datetime(2013, 1, 1, 0, 0),\n",
       "                          datetime.datetime(2014, 1, 1, 0, 0),\n",
       "                          datetime.datetime(2015, 1, 1, 0, 0),\n",
       "                          datetime.datetime(2016, 1, 1, 0, 0),\n",
       "                          datetime.datetime(2017, 1, 1, 0, 0),\n",
       "                          datetime.datetime(2018, 1, 1, 0, 0),\n",
       "                          datetime.datetime(2019, 1, 1, 0, 0),\n",
       "                          datetime.datetime(2020, 1, 1, 0, 0),\n",
       "                          datetime.datetime(2021, 1, 1, 0, 0),\n",
       "                          datetime.datetime(2022, 1, 1, 0, 0),\n",
       "                          datetime.datetime(2023, 1, 1, 0, 0),\n",
       "                          datetime.datetime(2024, 1, 1, 0, 0),\n",
       "                          datetime.datetime(2025, 1, 1, 0, 0),\n",
       "                          datetime.datetime(2026, 1, 1, 0, 0),\n",
       "                          datetime.datetime(2027, 1, 1, 0, 0),\n",
       "                          datetime.datetime(2028, 1, 1, 0, 0),\n",
       "                          datetime.datetime(2029, 1, 1, 0, 0),\n",
       "                          datetime.datetime(2030, 1, 1, 0, 0),\n",
       "                          datetime.datetime(2031, 1, 1, 0, 0),\n",
       "                          datetime.datetime(2032, 1, 1, 0, 0),\n",
       "                          datetime.datetime(2033, 1, 1, 0, 0),\n",
       "                          datetime.datetime(2034, 1, 1, 0, 0),\n",
       "                          datetime.datetime(2035, 1, 1, 0, 0),\n",
       "                          datetime.datetime(2036, 1, 1, 0, 0),\n",
       "                          datetime.datetime(2037, 1, 1, 0, 0),\n",
       "                          datetime.datetime(2038, 1, 1, 0, 0),\n",
       "                          datetime.datetime(2039, 1, 1, 0, 0),\n",
       "                          datetime.datetime(2040, 1, 1, 0, 0),\n",
       "                          datetime.datetime(2041, 1, 1, 0, 0),\n",
       "                          datetime.datetime(2042, 1, 1, 0, 0),\n",
       "                          datetime.datetime(2043, 1, 1, 0, 0),\n",
       "                          datetime.datetime(2044, 1, 1, 0, 0),\n",
       "                          datetime.datetime(2045, 1, 1, 0, 0),\n",
       "                          datetime.datetime(2046, 1, 1, 0, 0),\n",
       "                          datetime.datetime(2047, 1, 1, 0, 0),\n",
       "                          datetime.datetime(2048, 1, 1, 0, 0),\n",
       "                          datetime.datetime(2049, 1, 1, 0, 0),\n",
       "                          datetime.datetime(2050, 1, 1, 0, 0),\n",
       "                          datetime.datetime(2051, 1, 1, 0, 0)], dtype=object),\n",
       "              'y': array([ 2.53901221e+03,  2.54542310e+03,  2.55235913e+03,  2.62332202e+03,\n",
       "                           2.63427148e+03,  2.65806201e+03,  2.68237769e+03,  2.77076807e+03,\n",
       "                           2.80526489e+03,  2.84834131e+03,  2.89194263e+03,  2.99967139e+03,\n",
       "                           3.06235181e+03,  3.12847510e+03,  3.19512354e+03,  3.32549023e+03,\n",
       "                           3.38821655e+03,  3.45146313e+03,  3.51523486e+03,  3.62884814e+03,\n",
       "                           3.66007690e+03,  3.69182568e+03,  3.72409912e+03,  3.84935986e+03,\n",
       "                           3.91929736e+03,  3.98975488e+03,  4.06016895e+03,  4.17891064e+03,\n",
       "                           4.23244922e+03,  4.28650879e+03,  4.33563428e+03,  4.43757227e+03,\n",
       "                           4.47435352e+03,  4.51165430e+03,  4.53214648e+03,  4.60590332e+03,\n",
       "                           4.61458008e+03,  4.62377734e+03,  4.51490674e+03,  4.45767432e+03,\n",
       "                           4.33571973e+03,  4.21428516e+03,  4.09337598e+03,  4.03614331e+03,\n",
       "                           3.91418872e+03,  3.79275439e+03,  3.67184521e+03,  3.61461230e+03,\n",
       "                           3.49265820e+03,  3.37122363e+03,  3.25031421e+03,  3.19308154e+03,\n",
       "                           3.07112744e+03,  2.94969287e+03,  2.82878369e+03,  2.77155103e+03,\n",
       "                           2.64959619e+03,  2.52816162e+03,  2.40725293e+03,  2.35002051e+03,\n",
       "                           2.22806543e+03,  2.10663110e+03,  1.98572119e+03,  1.92848865e+03,\n",
       "                           1.80653491e+03,  1.68510046e+03,  1.56419067e+03,  1.50695813e+03,\n",
       "                           1.38500366e+03,  1.26356934e+03,  1.14266003e+03,  1.08542749e+03,\n",
       "                           9.63473145e+02,  8.42038818e+02,  7.21129517e+02,  6.63896851e+02,\n",
       "                           5.41942627e+02,  4.20507568e+02,  2.99598877e+02,  2.42366333e+02,\n",
       "                           1.20411377e+02, -1.02294922e+00])},\n",
       "             {'marker': {'color': 'black', 'size': 4},\n",
       "              'mode': 'markers',\n",
       "              'name': 'Actual',\n",
       "              'type': 'scatter',\n",
       "              'uid': 'ae2e302f-f375-43b2-aa3f-27114cca18e9',\n",
       "              'x': array([datetime.datetime(1970, 1, 1, 0, 0),\n",
       "                          datetime.datetime(1971, 1, 1, 0, 0),\n",
       "                          datetime.datetime(1972, 1, 1, 0, 0),\n",
       "                          datetime.datetime(1973, 1, 1, 0, 0),\n",
       "                          datetime.datetime(1974, 1, 1, 0, 0),\n",
       "                          datetime.datetime(1975, 1, 1, 0, 0),\n",
       "                          datetime.datetime(1976, 1, 1, 0, 0),\n",
       "                          datetime.datetime(1977, 1, 1, 0, 0),\n",
       "                          datetime.datetime(1978, 1, 1, 0, 0),\n",
       "                          datetime.datetime(1979, 1, 1, 0, 0),\n",
       "                          datetime.datetime(1980, 1, 1, 0, 0),\n",
       "                          datetime.datetime(1981, 1, 1, 0, 0),\n",
       "                          datetime.datetime(1982, 1, 1, 0, 0),\n",
       "                          datetime.datetime(1983, 1, 1, 0, 0),\n",
       "                          datetime.datetime(1984, 1, 1, 0, 0),\n",
       "                          datetime.datetime(1985, 1, 1, 0, 0),\n",
       "                          datetime.datetime(1986, 1, 1, 0, 0),\n",
       "                          datetime.datetime(1987, 1, 1, 0, 0),\n",
       "                          datetime.datetime(1988, 1, 1, 0, 0),\n",
       "                          datetime.datetime(1989, 1, 1, 0, 0),\n",
       "                          datetime.datetime(1990, 1, 1, 0, 0),\n",
       "                          datetime.datetime(1991, 1, 1, 0, 0),\n",
       "                          datetime.datetime(1992, 1, 1, 0, 0),\n",
       "                          datetime.datetime(1993, 1, 1, 0, 0),\n",
       "                          datetime.datetime(1994, 1, 1, 0, 0),\n",
       "                          datetime.datetime(1995, 1, 1, 0, 0),\n",
       "                          datetime.datetime(1996, 1, 1, 0, 0),\n",
       "                          datetime.datetime(1997, 1, 1, 0, 0),\n",
       "                          datetime.datetime(1998, 1, 1, 0, 0),\n",
       "                          datetime.datetime(1999, 1, 1, 0, 0),\n",
       "                          datetime.datetime(2000, 1, 1, 0, 0),\n",
       "                          datetime.datetime(2001, 1, 1, 0, 0),\n",
       "                          datetime.datetime(2002, 1, 1, 0, 0),\n",
       "                          datetime.datetime(2003, 1, 1, 0, 0),\n",
       "                          datetime.datetime(2004, 1, 1, 0, 0),\n",
       "                          datetime.datetime(2005, 1, 1, 0, 0),\n",
       "                          datetime.datetime(2006, 1, 1, 0, 0),\n",
       "                          datetime.datetime(2007, 1, 1, 0, 0),\n",
       "                          datetime.datetime(2008, 1, 1, 0, 0),\n",
       "                          datetime.datetime(2009, 1, 1, 0, 0),\n",
       "                          datetime.datetime(2010, 1, 1, 0, 0),\n",
       "                          datetime.datetime(2011, 1, 1, 0, 0),\n",
       "                          datetime.datetime(2012, 1, 1, 0, 0),\n",
       "                          datetime.datetime(2013, 1, 1, 0, 0),\n",
       "                          datetime.datetime(2014, 1, 1, 0, 0),\n",
       "                          datetime.datetime(2015, 1, 1, 0, 0),\n",
       "                          datetime.datetime(2016, 1, 1, 0, 0),\n",
       "                          datetime.datetime(2017, 1, 1, 0, 0),\n",
       "                          datetime.datetime(2018, 1, 1, 0, 0),\n",
       "                          datetime.datetime(2019, 1, 1, 0, 0),\n",
       "                          datetime.datetime(2020, 1, 1, 0, 0),\n",
       "                          datetime.datetime(2021, 1, 1, 0, 0),\n",
       "                          datetime.datetime(2022, 1, 1, 0, 0),\n",
       "                          datetime.datetime(2023, 1, 1, 0, 0),\n",
       "                          datetime.datetime(2024, 1, 1, 0, 0),\n",
       "                          datetime.datetime(2025, 1, 1, 0, 0),\n",
       "                          datetime.datetime(2026, 1, 1, 0, 0),\n",
       "                          datetime.datetime(2027, 1, 1, 0, 0),\n",
       "                          datetime.datetime(2028, 1, 1, 0, 0),\n",
       "                          datetime.datetime(2029, 1, 1, 0, 0),\n",
       "                          datetime.datetime(2030, 1, 1, 0, 0),\n",
       "                          datetime.datetime(2031, 1, 1, 0, 0),\n",
       "                          datetime.datetime(2032, 1, 1, 0, 0),\n",
       "                          datetime.datetime(2033, 1, 1, 0, 0),\n",
       "                          datetime.datetime(2034, 1, 1, 0, 0),\n",
       "                          datetime.datetime(2035, 1, 1, 0, 0),\n",
       "                          datetime.datetime(2036, 1, 1, 0, 0),\n",
       "                          datetime.datetime(2037, 1, 1, 0, 0),\n",
       "                          datetime.datetime(2038, 1, 1, 0, 0),\n",
       "                          datetime.datetime(2039, 1, 1, 0, 0),\n",
       "                          datetime.datetime(2040, 1, 1, 0, 0),\n",
       "                          datetime.datetime(2041, 1, 1, 0, 0),\n",
       "                          datetime.datetime(2042, 1, 1, 0, 0),\n",
       "                          datetime.datetime(2043, 1, 1, 0, 0),\n",
       "                          datetime.datetime(2044, 1, 1, 0, 0),\n",
       "                          datetime.datetime(2045, 1, 1, 0, 0),\n",
       "                          datetime.datetime(2046, 1, 1, 0, 0),\n",
       "                          datetime.datetime(2047, 1, 1, 0, 0),\n",
       "                          datetime.datetime(2048, 1, 1, 0, 0),\n",
       "                          datetime.datetime(2049, 1, 1, 0, 0),\n",
       "                          datetime.datetime(2050, 1, 1, 0, 0),\n",
       "                          datetime.datetime(2051, 1, 1, 0, 0)], dtype=object),\n",
       "              'y': array([2122.880364, 2197.656772, 2383.076065, 2566.447445, 2498.006034,\n",
       "                          2487.013538, 2703.611562, 2879.49819 , 2894.706723, 3016.60404 ,\n",
       "                          3109.892696, 3129.793192, 2973.778113, 3057.463269, 3190.157626,\n",
       "                          3273.440796, 3246.229946, 3375.46041 , 3544.337734, 3664.005752,\n",
       "                          3641.405934, 3635.915536, 3662.271401, 3813.542925, 3862.16076 ,\n",
       "                          3896.292226, 4041.422065, 4176.092505, 4354.256744, 4379.981424,\n",
       "                          4593.604258, 4518.119344, 4545.787928, 4608.072578, 4669.995247,\n",
       "                          4801.693848, 4690.095875, 4822.661216, 4719.785596, 4291.881606,\n",
       "                          4519.703317, 4318.229639, 4048.420361, 4077.898006, 4076.013504,\n",
       "                          3802.693129, 3619.234685, 3465.44088 , 3509.389644, 3216.273161,\n",
       "                          2880.864217, 3084.080964,         nan,         nan,         nan,\n",
       "                                  nan,         nan,         nan,         nan,         nan,\n",
       "                                  nan,         nan,         nan,         nan,         nan,\n",
       "                                  nan,         nan,         nan,         nan,         nan,\n",
       "                                  nan,         nan,         nan,         nan,         nan,\n",
       "                                  nan,         nan,         nan,         nan,         nan,\n",
       "                                  nan,         nan])}],\n",
       "    'layout': {'autosize': True,\n",
       "               'font': {'size': 10},\n",
       "               'height': 420,\n",
       "               'hovermode': 'x unified',\n",
       "               'margin': {'b': 0, 'l': 0, 'pad': 0, 'r': 10, 't': 10},\n",
       "               'showlegend': True,\n",
       "               'template': '...',\n",
       "               'title': {'font': {'size': 12}},\n",
       "               'width': 700,\n",
       "               'xaxis': {'linewidth': 1.5,\n",
       "                         'mirror': True,\n",
       "                         'rangeselector': {'buttons': [{'count': 7, 'label': '1w', 'step': 'day', 'stepmode': 'backward'},\n",
       "                                                       {'count': 1,\n",
       "                                                        'label': '1m',\n",
       "                                                        'step': 'month',\n",
       "                                                        'stepmode': 'backward'},\n",
       "                                                       {'count': 6,\n",
       "                                                        'label': '6m',\n",
       "                                                        'step': 'month',\n",
       "                                                        'stepmode': 'backward'},\n",
       "                                                       {'count': 1, 'label': '1y', 'step': 'year', 'stepmode': 'backward'},\n",
       "                                                       {'step': 'all'}]},\n",
       "                         'rangeslider': {'visible': True},\n",
       "                         'showline': True,\n",
       "                         'title': {'text': 'ds'},\n",
       "                         'type': 'date'},\n",
       "               'yaxis': {'linewidth': 1.5, 'mirror': True, 'showline': True, 'title': {'text': 'y'}}}\n",
       "})"
      ]
     },
     "execution_count": 46,
     "metadata": {},
     "output_type": "execute_result"
    }
   ],
   "source": [
    "df_future = m.make_future_dataframe(eia_grouped, n_historic_predictions=True, periods=30)\n",
    "forecast = m.predict(df_future)\n",
    "m.plot(forecast)"
   ]
  }
 ],
 "metadata": {
  "kernelspec": {
   "display_name": "Python 3",
   "language": "python",
   "name": "python3"
  },
  "language_info": {
   "codemirror_mode": {
    "name": "ipython",
    "version": 3
   },
   "file_extension": ".py",
   "mimetype": "text/x-python",
   "name": "python",
   "nbconvert_exporter": "python",
   "pygments_lexer": "ipython3",
   "version": "3.10.13"
  }
 },
 "nbformat": 4,
 "nbformat_minor": 2
}
